{
  "nbformat": 4,
  "nbformat_minor": 0,
  "metadata": {
    "colab": {
      "name": "japanese_electra.ipynb",
      "provenance": [],
      "collapsed_sections": [],
      "machine_shape": "hm"
    },
    "kernelspec": {
      "display_name": "Python 3",
      "name": "python3"
    },
    "language_info": {
      "name": "python"
    },
    "widgets": {
      "application/vnd.jupyter.widget-state+json": {
        "9c2c966512734b3da634ab9030ee8f79": {
          "model_module": "@jupyter-widgets/controls",
          "model_name": "HBoxModel",
          "model_module_version": "1.5.0",
          "state": {
            "_dom_classes": [],
            "_model_module": "@jupyter-widgets/controls",
            "_model_module_version": "1.5.0",
            "_model_name": "HBoxModel",
            "_view_count": null,
            "_view_module": "@jupyter-widgets/controls",
            "_view_module_version": "1.5.0",
            "_view_name": "HBoxView",
            "box_style": "",
            "children": [
              "IPY_MODEL_fb04ea824b52498d956f9724a61c7dea",
              "IPY_MODEL_8240c0002aac47aebcda84e69cb22b9a",
              "IPY_MODEL_3af8165a68ff42168f2b618bb18d21ed"
            ],
            "layout": "IPY_MODEL_2b84bc888b0e4562aae7465b00dc1cf0"
          }
        },
        "fb04ea824b52498d956f9724a61c7dea": {
          "model_module": "@jupyter-widgets/controls",
          "model_name": "HTMLModel",
          "model_module_version": "1.5.0",
          "state": {
            "_dom_classes": [],
            "_model_module": "@jupyter-widgets/controls",
            "_model_module_version": "1.5.0",
            "_model_name": "HTMLModel",
            "_view_count": null,
            "_view_module": "@jupyter-widgets/controls",
            "_view_module_version": "1.5.0",
            "_view_name": "HTMLView",
            "description": "",
            "description_tooltip": null,
            "layout": "IPY_MODEL_109c321484714a118c5288fc6678ef5b",
            "placeholder": "​",
            "style": "IPY_MODEL_b328c16be2d04be7bf061a897200c434",
            "value": "Downloading: 100%"
          }
        },
        "8240c0002aac47aebcda84e69cb22b9a": {
          "model_module": "@jupyter-widgets/controls",
          "model_name": "FloatProgressModel",
          "model_module_version": "1.5.0",
          "state": {
            "_dom_classes": [],
            "_model_module": "@jupyter-widgets/controls",
            "_model_module_version": "1.5.0",
            "_model_name": "FloatProgressModel",
            "_view_count": null,
            "_view_module": "@jupyter-widgets/controls",
            "_view_module_version": "1.5.0",
            "_view_name": "ProgressView",
            "bar_style": "success",
            "description": "",
            "description_tooltip": null,
            "layout": "IPY_MODEL_0f3eb5c610e04497b6753be419c62205",
            "max": 815,
            "min": 0,
            "orientation": "horizontal",
            "style": "IPY_MODEL_09813260278c4b21a05b91705e86c932",
            "value": 815
          }
        },
        "3af8165a68ff42168f2b618bb18d21ed": {
          "model_module": "@jupyter-widgets/controls",
          "model_name": "HTMLModel",
          "model_module_version": "1.5.0",
          "state": {
            "_dom_classes": [],
            "_model_module": "@jupyter-widgets/controls",
            "_model_module_version": "1.5.0",
            "_model_name": "HTMLModel",
            "_view_count": null,
            "_view_module": "@jupyter-widgets/controls",
            "_view_module_version": "1.5.0",
            "_view_name": "HTMLView",
            "description": "",
            "description_tooltip": null,
            "layout": "IPY_MODEL_8bbded07a094420888bb7fe62ee2d15c",
            "placeholder": "​",
            "style": "IPY_MODEL_e82b5ae46be945f689b300e8c90543ad",
            "value": " 815/815 [00:00&lt;00:00, 17.6kB/s]"
          }
        },
        "2b84bc888b0e4562aae7465b00dc1cf0": {
          "model_module": "@jupyter-widgets/base",
          "model_name": "LayoutModel",
          "model_module_version": "1.2.0",
          "state": {
            "_model_module": "@jupyter-widgets/base",
            "_model_module_version": "1.2.0",
            "_model_name": "LayoutModel",
            "_view_count": null,
            "_view_module": "@jupyter-widgets/base",
            "_view_module_version": "1.2.0",
            "_view_name": "LayoutView",
            "align_content": null,
            "align_items": null,
            "align_self": null,
            "border": null,
            "bottom": null,
            "display": null,
            "flex": null,
            "flex_flow": null,
            "grid_area": null,
            "grid_auto_columns": null,
            "grid_auto_flow": null,
            "grid_auto_rows": null,
            "grid_column": null,
            "grid_gap": null,
            "grid_row": null,
            "grid_template_areas": null,
            "grid_template_columns": null,
            "grid_template_rows": null,
            "height": null,
            "justify_content": null,
            "justify_items": null,
            "left": null,
            "margin": null,
            "max_height": null,
            "max_width": null,
            "min_height": null,
            "min_width": null,
            "object_fit": null,
            "object_position": null,
            "order": null,
            "overflow": null,
            "overflow_x": null,
            "overflow_y": null,
            "padding": null,
            "right": null,
            "top": null,
            "visibility": null,
            "width": null
          }
        },
        "109c321484714a118c5288fc6678ef5b": {
          "model_module": "@jupyter-widgets/base",
          "model_name": "LayoutModel",
          "model_module_version": "1.2.0",
          "state": {
            "_model_module": "@jupyter-widgets/base",
            "_model_module_version": "1.2.0",
            "_model_name": "LayoutModel",
            "_view_count": null,
            "_view_module": "@jupyter-widgets/base",
            "_view_module_version": "1.2.0",
            "_view_name": "LayoutView",
            "align_content": null,
            "align_items": null,
            "align_self": null,
            "border": null,
            "bottom": null,
            "display": null,
            "flex": null,
            "flex_flow": null,
            "grid_area": null,
            "grid_auto_columns": null,
            "grid_auto_flow": null,
            "grid_auto_rows": null,
            "grid_column": null,
            "grid_gap": null,
            "grid_row": null,
            "grid_template_areas": null,
            "grid_template_columns": null,
            "grid_template_rows": null,
            "height": null,
            "justify_content": null,
            "justify_items": null,
            "left": null,
            "margin": null,
            "max_height": null,
            "max_width": null,
            "min_height": null,
            "min_width": null,
            "object_fit": null,
            "object_position": null,
            "order": null,
            "overflow": null,
            "overflow_x": null,
            "overflow_y": null,
            "padding": null,
            "right": null,
            "top": null,
            "visibility": null,
            "width": null
          }
        },
        "b328c16be2d04be7bf061a897200c434": {
          "model_module": "@jupyter-widgets/controls",
          "model_name": "DescriptionStyleModel",
          "model_module_version": "1.5.0",
          "state": {
            "_model_module": "@jupyter-widgets/controls",
            "_model_module_version": "1.5.0",
            "_model_name": "DescriptionStyleModel",
            "_view_count": null,
            "_view_module": "@jupyter-widgets/base",
            "_view_module_version": "1.2.0",
            "_view_name": "StyleView",
            "description_width": ""
          }
        },
        "0f3eb5c610e04497b6753be419c62205": {
          "model_module": "@jupyter-widgets/base",
          "model_name": "LayoutModel",
          "model_module_version": "1.2.0",
          "state": {
            "_model_module": "@jupyter-widgets/base",
            "_model_module_version": "1.2.0",
            "_model_name": "LayoutModel",
            "_view_count": null,
            "_view_module": "@jupyter-widgets/base",
            "_view_module_version": "1.2.0",
            "_view_name": "LayoutView",
            "align_content": null,
            "align_items": null,
            "align_self": null,
            "border": null,
            "bottom": null,
            "display": null,
            "flex": null,
            "flex_flow": null,
            "grid_area": null,
            "grid_auto_columns": null,
            "grid_auto_flow": null,
            "grid_auto_rows": null,
            "grid_column": null,
            "grid_gap": null,
            "grid_row": null,
            "grid_template_areas": null,
            "grid_template_columns": null,
            "grid_template_rows": null,
            "height": null,
            "justify_content": null,
            "justify_items": null,
            "left": null,
            "margin": null,
            "max_height": null,
            "max_width": null,
            "min_height": null,
            "min_width": null,
            "object_fit": null,
            "object_position": null,
            "order": null,
            "overflow": null,
            "overflow_x": null,
            "overflow_y": null,
            "padding": null,
            "right": null,
            "top": null,
            "visibility": null,
            "width": null
          }
        },
        "09813260278c4b21a05b91705e86c932": {
          "model_module": "@jupyter-widgets/controls",
          "model_name": "ProgressStyleModel",
          "model_module_version": "1.5.0",
          "state": {
            "_model_module": "@jupyter-widgets/controls",
            "_model_module_version": "1.5.0",
            "_model_name": "ProgressStyleModel",
            "_view_count": null,
            "_view_module": "@jupyter-widgets/base",
            "_view_module_version": "1.2.0",
            "_view_name": "StyleView",
            "bar_color": null,
            "description_width": ""
          }
        },
        "8bbded07a094420888bb7fe62ee2d15c": {
          "model_module": "@jupyter-widgets/base",
          "model_name": "LayoutModel",
          "model_module_version": "1.2.0",
          "state": {
            "_model_module": "@jupyter-widgets/base",
            "_model_module_version": "1.2.0",
            "_model_name": "LayoutModel",
            "_view_count": null,
            "_view_module": "@jupyter-widgets/base",
            "_view_module_version": "1.2.0",
            "_view_name": "LayoutView",
            "align_content": null,
            "align_items": null,
            "align_self": null,
            "border": null,
            "bottom": null,
            "display": null,
            "flex": null,
            "flex_flow": null,
            "grid_area": null,
            "grid_auto_columns": null,
            "grid_auto_flow": null,
            "grid_auto_rows": null,
            "grid_column": null,
            "grid_gap": null,
            "grid_row": null,
            "grid_template_areas": null,
            "grid_template_columns": null,
            "grid_template_rows": null,
            "height": null,
            "justify_content": null,
            "justify_items": null,
            "left": null,
            "margin": null,
            "max_height": null,
            "max_width": null,
            "min_height": null,
            "min_width": null,
            "object_fit": null,
            "object_position": null,
            "order": null,
            "overflow": null,
            "overflow_x": null,
            "overflow_y": null,
            "padding": null,
            "right": null,
            "top": null,
            "visibility": null,
            "width": null
          }
        },
        "e82b5ae46be945f689b300e8c90543ad": {
          "model_module": "@jupyter-widgets/controls",
          "model_name": "DescriptionStyleModel",
          "model_module_version": "1.5.0",
          "state": {
            "_model_module": "@jupyter-widgets/controls",
            "_model_module_version": "1.5.0",
            "_model_name": "DescriptionStyleModel",
            "_view_count": null,
            "_view_module": "@jupyter-widgets/base",
            "_view_module_version": "1.2.0",
            "_view_name": "StyleView",
            "description_width": ""
          }
        },
        "61c3655040554bf9b532c78dc78c1298": {
          "model_module": "@jupyter-widgets/controls",
          "model_name": "HBoxModel",
          "model_module_version": "1.5.0",
          "state": {
            "_dom_classes": [],
            "_model_module": "@jupyter-widgets/controls",
            "_model_module_version": "1.5.0",
            "_model_name": "HBoxModel",
            "_view_count": null,
            "_view_module": "@jupyter-widgets/controls",
            "_view_module_version": "1.5.0",
            "_view_name": "HBoxView",
            "box_style": "",
            "children": [
              "IPY_MODEL_15d8db0589b94484a3ca3acfe65a8883",
              "IPY_MODEL_89ce2a3467cf48338c65500e28b3864d",
              "IPY_MODEL_1251ffb79404410da73b2a1d513f734a"
            ],
            "layout": "IPY_MODEL_f475f9b0d34b4754a300075aec069082"
          }
        },
        "15d8db0589b94484a3ca3acfe65a8883": {
          "model_module": "@jupyter-widgets/controls",
          "model_name": "HTMLModel",
          "model_module_version": "1.5.0",
          "state": {
            "_dom_classes": [],
            "_model_module": "@jupyter-widgets/controls",
            "_model_module_version": "1.5.0",
            "_model_name": "HTMLModel",
            "_view_count": null,
            "_view_module": "@jupyter-widgets/controls",
            "_view_module_version": "1.5.0",
            "_view_name": "HTMLView",
            "description": "",
            "description_tooltip": null,
            "layout": "IPY_MODEL_564dc7fcb377424ca0759dde745bcbc8",
            "placeholder": "​",
            "style": "IPY_MODEL_169823c1c0364a8aa68a30cf762a59d0",
            "value": "Downloading: 100%"
          }
        },
        "89ce2a3467cf48338c65500e28b3864d": {
          "model_module": "@jupyter-widgets/controls",
          "model_name": "FloatProgressModel",
          "model_module_version": "1.5.0",
          "state": {
            "_dom_classes": [],
            "_model_module": "@jupyter-widgets/controls",
            "_model_module_version": "1.5.0",
            "_model_name": "FloatProgressModel",
            "_view_count": null,
            "_view_module": "@jupyter-widgets/controls",
            "_view_module_version": "1.5.0",
            "_view_name": "ProgressView",
            "bar_style": "success",
            "description": "",
            "description_tooltip": null,
            "layout": "IPY_MODEL_9fbb26a427c5416ab9e9713482f2f455",
            "max": 434384949,
            "min": 0,
            "orientation": "horizontal",
            "style": "IPY_MODEL_d7b246c58780405ab2af0b35a004b0cf",
            "value": 434384949
          }
        },
        "1251ffb79404410da73b2a1d513f734a": {
          "model_module": "@jupyter-widgets/controls",
          "model_name": "HTMLModel",
          "model_module_version": "1.5.0",
          "state": {
            "_dom_classes": [],
            "_model_module": "@jupyter-widgets/controls",
            "_model_module_version": "1.5.0",
            "_model_name": "HTMLModel",
            "_view_count": null,
            "_view_module": "@jupyter-widgets/controls",
            "_view_module_version": "1.5.0",
            "_view_name": "HTMLView",
            "description": "",
            "description_tooltip": null,
            "layout": "IPY_MODEL_bbbcc07ef4e74313b79d8e9e9161865f",
            "placeholder": "​",
            "style": "IPY_MODEL_490b46f118f946f59c4543a2dd34bc99",
            "value": " 414M/414M [00:07&lt;00:00, 56.2MB/s]"
          }
        },
        "f475f9b0d34b4754a300075aec069082": {
          "model_module": "@jupyter-widgets/base",
          "model_name": "LayoutModel",
          "model_module_version": "1.2.0",
          "state": {
            "_model_module": "@jupyter-widgets/base",
            "_model_module_version": "1.2.0",
            "_model_name": "LayoutModel",
            "_view_count": null,
            "_view_module": "@jupyter-widgets/base",
            "_view_module_version": "1.2.0",
            "_view_name": "LayoutView",
            "align_content": null,
            "align_items": null,
            "align_self": null,
            "border": null,
            "bottom": null,
            "display": null,
            "flex": null,
            "flex_flow": null,
            "grid_area": null,
            "grid_auto_columns": null,
            "grid_auto_flow": null,
            "grid_auto_rows": null,
            "grid_column": null,
            "grid_gap": null,
            "grid_row": null,
            "grid_template_areas": null,
            "grid_template_columns": null,
            "grid_template_rows": null,
            "height": null,
            "justify_content": null,
            "justify_items": null,
            "left": null,
            "margin": null,
            "max_height": null,
            "max_width": null,
            "min_height": null,
            "min_width": null,
            "object_fit": null,
            "object_position": null,
            "order": null,
            "overflow": null,
            "overflow_x": null,
            "overflow_y": null,
            "padding": null,
            "right": null,
            "top": null,
            "visibility": null,
            "width": null
          }
        },
        "564dc7fcb377424ca0759dde745bcbc8": {
          "model_module": "@jupyter-widgets/base",
          "model_name": "LayoutModel",
          "model_module_version": "1.2.0",
          "state": {
            "_model_module": "@jupyter-widgets/base",
            "_model_module_version": "1.2.0",
            "_model_name": "LayoutModel",
            "_view_count": null,
            "_view_module": "@jupyter-widgets/base",
            "_view_module_version": "1.2.0",
            "_view_name": "LayoutView",
            "align_content": null,
            "align_items": null,
            "align_self": null,
            "border": null,
            "bottom": null,
            "display": null,
            "flex": null,
            "flex_flow": null,
            "grid_area": null,
            "grid_auto_columns": null,
            "grid_auto_flow": null,
            "grid_auto_rows": null,
            "grid_column": null,
            "grid_gap": null,
            "grid_row": null,
            "grid_template_areas": null,
            "grid_template_columns": null,
            "grid_template_rows": null,
            "height": null,
            "justify_content": null,
            "justify_items": null,
            "left": null,
            "margin": null,
            "max_height": null,
            "max_width": null,
            "min_height": null,
            "min_width": null,
            "object_fit": null,
            "object_position": null,
            "order": null,
            "overflow": null,
            "overflow_x": null,
            "overflow_y": null,
            "padding": null,
            "right": null,
            "top": null,
            "visibility": null,
            "width": null
          }
        },
        "169823c1c0364a8aa68a30cf762a59d0": {
          "model_module": "@jupyter-widgets/controls",
          "model_name": "DescriptionStyleModel",
          "model_module_version": "1.5.0",
          "state": {
            "_model_module": "@jupyter-widgets/controls",
            "_model_module_version": "1.5.0",
            "_model_name": "DescriptionStyleModel",
            "_view_count": null,
            "_view_module": "@jupyter-widgets/base",
            "_view_module_version": "1.2.0",
            "_view_name": "StyleView",
            "description_width": ""
          }
        },
        "9fbb26a427c5416ab9e9713482f2f455": {
          "model_module": "@jupyter-widgets/base",
          "model_name": "LayoutModel",
          "model_module_version": "1.2.0",
          "state": {
            "_model_module": "@jupyter-widgets/base",
            "_model_module_version": "1.2.0",
            "_model_name": "LayoutModel",
            "_view_count": null,
            "_view_module": "@jupyter-widgets/base",
            "_view_module_version": "1.2.0",
            "_view_name": "LayoutView",
            "align_content": null,
            "align_items": null,
            "align_self": null,
            "border": null,
            "bottom": null,
            "display": null,
            "flex": null,
            "flex_flow": null,
            "grid_area": null,
            "grid_auto_columns": null,
            "grid_auto_flow": null,
            "grid_auto_rows": null,
            "grid_column": null,
            "grid_gap": null,
            "grid_row": null,
            "grid_template_areas": null,
            "grid_template_columns": null,
            "grid_template_rows": null,
            "height": null,
            "justify_content": null,
            "justify_items": null,
            "left": null,
            "margin": null,
            "max_height": null,
            "max_width": null,
            "min_height": null,
            "min_width": null,
            "object_fit": null,
            "object_position": null,
            "order": null,
            "overflow": null,
            "overflow_x": null,
            "overflow_y": null,
            "padding": null,
            "right": null,
            "top": null,
            "visibility": null,
            "width": null
          }
        },
        "d7b246c58780405ab2af0b35a004b0cf": {
          "model_module": "@jupyter-widgets/controls",
          "model_name": "ProgressStyleModel",
          "model_module_version": "1.5.0",
          "state": {
            "_model_module": "@jupyter-widgets/controls",
            "_model_module_version": "1.5.0",
            "_model_name": "ProgressStyleModel",
            "_view_count": null,
            "_view_module": "@jupyter-widgets/base",
            "_view_module_version": "1.2.0",
            "_view_name": "StyleView",
            "bar_color": null,
            "description_width": ""
          }
        },
        "bbbcc07ef4e74313b79d8e9e9161865f": {
          "model_module": "@jupyter-widgets/base",
          "model_name": "LayoutModel",
          "model_module_version": "1.2.0",
          "state": {
            "_model_module": "@jupyter-widgets/base",
            "_model_module_version": "1.2.0",
            "_model_name": "LayoutModel",
            "_view_count": null,
            "_view_module": "@jupyter-widgets/base",
            "_view_module_version": "1.2.0",
            "_view_name": "LayoutView",
            "align_content": null,
            "align_items": null,
            "align_self": null,
            "border": null,
            "bottom": null,
            "display": null,
            "flex": null,
            "flex_flow": null,
            "grid_area": null,
            "grid_auto_columns": null,
            "grid_auto_flow": null,
            "grid_auto_rows": null,
            "grid_column": null,
            "grid_gap": null,
            "grid_row": null,
            "grid_template_areas": null,
            "grid_template_columns": null,
            "grid_template_rows": null,
            "height": null,
            "justify_content": null,
            "justify_items": null,
            "left": null,
            "margin": null,
            "max_height": null,
            "max_width": null,
            "min_height": null,
            "min_width": null,
            "object_fit": null,
            "object_position": null,
            "order": null,
            "overflow": null,
            "overflow_x": null,
            "overflow_y": null,
            "padding": null,
            "right": null,
            "top": null,
            "visibility": null,
            "width": null
          }
        },
        "490b46f118f946f59c4543a2dd34bc99": {
          "model_module": "@jupyter-widgets/controls",
          "model_name": "DescriptionStyleModel",
          "model_module_version": "1.5.0",
          "state": {
            "_model_module": "@jupyter-widgets/controls",
            "_model_module_version": "1.5.0",
            "_model_name": "DescriptionStyleModel",
            "_view_count": null,
            "_view_module": "@jupyter-widgets/base",
            "_view_module_version": "1.2.0",
            "_view_name": "StyleView",
            "description_width": ""
          }
        }
      }
    },
    "accelerator": "GPU",
    "gpuClass": "standard"
  },
  "cells": [
    {
      "cell_type": "code",
      "source": [
        "%pip install -U ginza ja-ginza ja-ginza-electra > /dev/null"
      ],
      "metadata": {
        "id": "PAWHQbDyc_Uk",
        "colab": {
          "base_uri": "https://localhost:8080/"
        },
        "outputId": "115faaf1-62dd-4d23-b3ea-f5b810bebd39"
      },
      "execution_count": null,
      "outputs": [
        {
          "output_type": "stream",
          "name": "stdout",
          "text": [
            "\u001b[31mERROR: pip's dependency resolver does not currently take into account all the packages that are installed. This behaviour is the source of the following dependency conflicts.\n",
            "en-core-web-sm 3.3.0 requires spacy<3.4.0,>=3.3.0.dev0, but you have spacy 3.2.4 which is incompatible.\u001b[0m\n"
          ]
        }
      ]
    },
    {
      "cell_type": "markdown",
      "source": [
        "#### RESTART RUNTIME"
      ],
      "metadata": {
        "id": "TUTMLd42rNM7"
      }
    },
    {
      "cell_type": "code",
      "source": [
        "import spacy"
      ],
      "metadata": {
        "id": "VoQFyABWe5kz"
      },
      "execution_count": null,
      "outputs": []
    },
    {
      "cell_type": "markdown",
      "source": [
        "### ELECTRA でないモデル (単語ベクトルは word2vec)"
      ],
      "metadata": {
        "id": "AAnD7GakrjY9"
      }
    },
    {
      "cell_type": "code",
      "source": [
        "# ja-ginza モデルのロード\n",
        "nlp = spacy.load('ja_ginza')\n",
        "\n",
        "# 文の解析\n",
        "doc = nlp('会社を首になる')\n",
        "\n",
        "# doc はトークンを要素に持つイテレータになる\n",
        "print([token for token in doc])\n",
        "\n",
        "print(doc.text)         # doc 内のテキストの表示\n",
        "print(doc.has_vector)  # doc にベクトルが定義されているか (bool)\n",
        "print(doc.vector.shape) # doc に対するベクトル"
      ],
      "metadata": {
        "colab": {
          "base_uri": "https://localhost:8080/"
        },
        "id": "mZiQb4Q4gSq3",
        "outputId": "f22c8d76-8157-46c1-d35e-caf97c070283"
      },
      "execution_count": null,
      "outputs": [
        {
          "output_type": "stream",
          "name": "stdout",
          "text": [
            "[会社, を, 首, に, なる]\n",
            "会社を首になる\n",
            "True\n",
            "(300,)\n"
          ]
        }
      ]
    },
    {
      "cell_type": "code",
      "source": [
        "# doc を構成する単語を順番にイテレート\n",
        "for token in doc:  \n",
        "    # sum(token.vector) はベクトルの要素の合計\n",
        "    print(f\"{token.text}\\t\\t{token.has_vector}\\t{sum(token.vector)}\")"
      ],
      "metadata": {
        "colab": {
          "base_uri": "https://localhost:8080/"
        },
        "id": "hbVu63iYklqd",
        "outputId": "a1f6092f-c2fa-4a05-e0f0-f7876c41b140"
      },
      "execution_count": null,
      "outputs": [
        {
          "output_type": "stream",
          "name": "stdout",
          "text": [
            "会社\t\tTrue\t-0.8052976123581175\n",
            "を\t\tTrue\t-2.772204238921404\n",
            "首\t\tTrue\t0.36821967632567976\n",
            "に\t\tTrue\t-1.9672063908074051\n",
            "なる\t\tTrue\t1.7768939238740131\n"
          ]
        }
      ]
    },
    {
      "cell_type": "code",
      "source": [
        "# 文の解析\n",
        "doc = nlp('首を痛める')\n",
        "\n",
        "# doc を構成する単語を順番にイテレート\n",
        "for token in doc:  \n",
        "    # sum(token.vector) はベクトルの要素の合計\n",
        "    print(f\"{token.text}\\t\\t{token.has_vector}\\t{sum(token.vector)}\")"
      ],
      "metadata": {
        "colab": {
          "base_uri": "https://localhost:8080/"
        },
        "id": "Ez_RGFPjf14E",
        "outputId": "d4208466-fdcf-4126-cb2f-ac51115ffb29"
      },
      "execution_count": null,
      "outputs": [
        {
          "output_type": "stream",
          "name": "stdout",
          "text": [
            "首\t\tTrue\t0.36821967632567976\n",
            "を\t\tTrue\t-2.772204238921404\n",
            "痛める\t\tTrue\t1.2116686039371416\n"
          ]
        }
      ]
    },
    {
      "cell_type": "markdown",
      "source": [
        "### ELECTRA モデルを使用する"
      ],
      "metadata": {
        "id": "cFj6iGGBsKBH"
      }
    },
    {
      "cell_type": "code",
      "source": [
        "# ja-ginzaモデルのロード\n",
        "nlp = spacy.load('ja_ginza_electra')\n",
        "\n",
        "# 文の解析\n",
        "doc = nlp('会社を首になる')\n",
        "\n",
        "# doc はトークンを要素に持つイテレータになる\n",
        "print([token for token in doc])\n",
        "\n",
        "print(doc.text)         # doc 内のテキストの表示\n",
        "print(doc.has_vector)  # doc にベクトルが定義されているか (bool)\n",
        "print(doc.vector)       # doc に対するベクトル"
      ],
      "metadata": {
        "colab": {
          "base_uri": "https://localhost:8080/",
          "height": 206,
          "referenced_widgets": [
            "9c2c966512734b3da634ab9030ee8f79",
            "fb04ea824b52498d956f9724a61c7dea",
            "8240c0002aac47aebcda84e69cb22b9a",
            "3af8165a68ff42168f2b618bb18d21ed",
            "2b84bc888b0e4562aae7465b00dc1cf0",
            "109c321484714a118c5288fc6678ef5b",
            "b328c16be2d04be7bf061a897200c434",
            "0f3eb5c610e04497b6753be419c62205",
            "09813260278c4b21a05b91705e86c932",
            "8bbded07a094420888bb7fe62ee2d15c",
            "e82b5ae46be945f689b300e8c90543ad",
            "61c3655040554bf9b532c78dc78c1298",
            "15d8db0589b94484a3ca3acfe65a8883",
            "89ce2a3467cf48338c65500e28b3864d",
            "1251ffb79404410da73b2a1d513f734a",
            "f475f9b0d34b4754a300075aec069082",
            "564dc7fcb377424ca0759dde745bcbc8",
            "169823c1c0364a8aa68a30cf762a59d0",
            "9fbb26a427c5416ab9e9713482f2f455",
            "d7b246c58780405ab2af0b35a004b0cf",
            "bbbcc07ef4e74313b79d8e9e9161865f",
            "490b46f118f946f59c4543a2dd34bc99"
          ]
        },
        "id": "Vpza97RGgfEn",
        "outputId": "98114889-8206-4582-b9d8-0e2f24c0e029"
      },
      "execution_count": null,
      "outputs": [
        {
          "output_type": "stream",
          "name": "stderr",
          "text": [
            "Cannot find the requested files in the cached path and outgoing traffic has been disabled. To enable model look-ups and downloads online, set 'local_files_only' to False.\n",
            "trying to download model from huggingface hub: megagonlabs/transformers-ud-japanese-electra-base-ginza-510 ...\n"
          ]
        },
        {
          "output_type": "display_data",
          "data": {
            "text/plain": [
              "Downloading:   0%|          | 0.00/815 [00:00<?, ?B/s]"
            ],
            "application/vnd.jupyter.widget-view+json": {
              "version_major": 2,
              "version_minor": 0,
              "model_id": "9c2c966512734b3da634ab9030ee8f79"
            }
          },
          "metadata": {}
        },
        {
          "output_type": "display_data",
          "data": {
            "text/plain": [
              "Downloading:   0%|          | 0.00/414M [00:00<?, ?B/s]"
            ],
            "application/vnd.jupyter.widget-view+json": {
              "version_major": 2,
              "version_minor": 0,
              "model_id": "61c3655040554bf9b532c78dc78c1298"
            }
          },
          "metadata": {}
        },
        {
          "output_type": "stream",
          "name": "stdout",
          "text": [
            "[会社, を, 首, に, なる]\n",
            "会社を首になる\n",
            "False\n",
            "[]\n"
          ]
        },
        {
          "output_type": "stream",
          "name": "stderr",
          "text": [
            "succeded\n"
          ]
        }
      ]
    },
    {
      "cell_type": "code",
      "source": [
        "import itertools\n",
        "import numpy as np\n",
        "\n",
        "# 出力を取得\n",
        "tensors = doc._.trf_data.tensors[0]\n",
        "print(tensors[0][0].shape)  # doc に対するベクトル\n",
        "\n",
        "# doc を構成する単語を順番にイテレート\n",
        "for idx, token in enumerate(doc):\n",
        "\n",
        "  # '今日' に対応する出力のインデックス\n",
        "  token_idxes = list(itertools.chain.from_iterable(doc._.trf_data.align[idx].data))\n",
        "\n",
        "  # token_idxes のインデックスは flatten なベクトルに対応しているので reshape する\n",
        "  tensors = np.reshape(tensors, (tensors.shape[0] * tensors.shape[1], -1))\n",
        "\n",
        "  # sum(ttensors[token_idxes])) はベクトルの要素の合計\n",
        "  print(f\"{token.text}\\t\\t{token_idxes[0]}\\t{np.sum(tensors[token_idxes])}\")"
      ],
      "metadata": {
        "colab": {
          "base_uri": "https://localhost:8080/"
        },
        "id": "mW_IsoZUinj7",
        "outputId": "03aef4b8-b7da-432d-a9b9-6ad8153e7c45"
      },
      "execution_count": null,
      "outputs": [
        {
          "output_type": "stream",
          "name": "stdout",
          "text": [
            "(768,)\n",
            "会社\t\t1\t5.18367862701416\n",
            "を\t\t2\t0.5097985863685608\n",
            "首\t\t3\t0.5730859041213989\n",
            "に\t\t4\t-0.30872178077697754\n",
            "なる\t\t5\t0.7547152638435364\n"
          ]
        }
      ]
    },
    {
      "cell_type": "code",
      "source": [
        "# 文の解析\n",
        "doc = nlp('首を痛める')\n",
        "\n",
        "# 出力を取得\n",
        "tensors = doc._.trf_data.tensors[0]\n",
        "print(tensors[0][0].shape)  # doc に対するベクトル\n",
        "\n",
        "# doc を構成する単語を順番にイテレート\n",
        "for idx, token in enumerate(doc):\n",
        "\n",
        "  # '今日' に対応する出力のインデックス\n",
        "  token_idxes = list(itertools.chain.from_iterable(doc._.trf_data.align[idx].data))\n",
        "\n",
        "  # token_idxes のインデックスは flatten なベクトルに対応しているので reshape する\n",
        "  tensors = np.reshape(tensors, (tensors.shape[0] * tensors.shape[1], -1))\n",
        "\n",
        "  # sum(ttensors[token_idxes])) はベクトルの要素の合計\n",
        "  print(f\"{token.text}\\t\\t{token_idxes[0]}\\t{np.sum(tensors[token_idxes])}\")"
      ],
      "metadata": {
        "colab": {
          "base_uri": "https://localhost:8080/"
        },
        "id": "8mJb2tOVgpAM",
        "outputId": "51261656-bd95-495b-b3f7-06e9fed3d082"
      },
      "execution_count": null,
      "outputs": [
        {
          "output_type": "stream",
          "name": "stdout",
          "text": [
            "(768,)\n",
            "首\t\t1\t9.142280578613281\n",
            "を\t\t2\t0.31786414980888367\n",
            "痛める\t\t3\t0.07496649026870728\n"
          ]
        }
      ]
    }
  ]
}