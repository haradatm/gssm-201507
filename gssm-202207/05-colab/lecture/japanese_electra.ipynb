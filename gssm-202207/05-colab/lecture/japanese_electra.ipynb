{
  "nbformat": 4,
  "nbformat_minor": 0,
  "metadata": {
    "colab": {
      "name": "japanese_electra.ipynb",
      "provenance": [],
      "collapsed_sections": [],
      "machine_shape": "hm"
    },
    "kernelspec": {
      "display_name": "Python 3",
      "name": "python3"
    },
    "language_info": {
      "name": "python"
    },
    "widgets": {
      "application/vnd.jupyter.widget-state+json": {
        "fb3f8e293a06446692c5168da2e92dae": {
          "model_module": "@jupyter-widgets/controls",
          "model_name": "HBoxModel",
          "model_module_version": "1.5.0",
          "state": {
            "_dom_classes": [],
            "_model_module": "@jupyter-widgets/controls",
            "_model_module_version": "1.5.0",
            "_model_name": "HBoxModel",
            "_view_count": null,
            "_view_module": "@jupyter-widgets/controls",
            "_view_module_version": "1.5.0",
            "_view_name": "HBoxView",
            "box_style": "",
            "children": [
              "IPY_MODEL_11a48d56ba894afe8472ab2aeebe47dc",
              "IPY_MODEL_07b361ae2cf348e0b75be3f10b43924f",
              "IPY_MODEL_8d3c7814145b422a94790e10f6fd2f94"
            ],
            "layout": "IPY_MODEL_57eabd8e65d84b09998d8e7942b98f08"
          }
        },
        "11a48d56ba894afe8472ab2aeebe47dc": {
          "model_module": "@jupyter-widgets/controls",
          "model_name": "HTMLModel",
          "model_module_version": "1.5.0",
          "state": {
            "_dom_classes": [],
            "_model_module": "@jupyter-widgets/controls",
            "_model_module_version": "1.5.0",
            "_model_name": "HTMLModel",
            "_view_count": null,
            "_view_module": "@jupyter-widgets/controls",
            "_view_module_version": "1.5.0",
            "_view_name": "HTMLView",
            "description": "",
            "description_tooltip": null,
            "layout": "IPY_MODEL_ab7cd130827d4e78879046b19d21b95f",
            "placeholder": "​",
            "style": "IPY_MODEL_fbcc1627571f426faf6f5be2192940e1",
            "value": "Downloading: 100%"
          }
        },
        "07b361ae2cf348e0b75be3f10b43924f": {
          "model_module": "@jupyter-widgets/controls",
          "model_name": "FloatProgressModel",
          "model_module_version": "1.5.0",
          "state": {
            "_dom_classes": [],
            "_model_module": "@jupyter-widgets/controls",
            "_model_module_version": "1.5.0",
            "_model_name": "FloatProgressModel",
            "_view_count": null,
            "_view_module": "@jupyter-widgets/controls",
            "_view_module_version": "1.5.0",
            "_view_name": "ProgressView",
            "bar_style": "success",
            "description": "",
            "description_tooltip": null,
            "layout": "IPY_MODEL_92573c02db374f56a8b2eaf06fef1258",
            "max": 434384949,
            "min": 0,
            "orientation": "horizontal",
            "style": "IPY_MODEL_417ee5bb119c4979a21bcc99b107879c",
            "value": 434384949
          }
        },
        "8d3c7814145b422a94790e10f6fd2f94": {
          "model_module": "@jupyter-widgets/controls",
          "model_name": "HTMLModel",
          "model_module_version": "1.5.0",
          "state": {
            "_dom_classes": [],
            "_model_module": "@jupyter-widgets/controls",
            "_model_module_version": "1.5.0",
            "_model_name": "HTMLModel",
            "_view_count": null,
            "_view_module": "@jupyter-widgets/controls",
            "_view_module_version": "1.5.0",
            "_view_name": "HTMLView",
            "description": "",
            "description_tooltip": null,
            "layout": "IPY_MODEL_222af83ed31a4b08b7c1ca65627fa6eb",
            "placeholder": "​",
            "style": "IPY_MODEL_4b502d85fd93436ea233f1863941a479",
            "value": " 414M/414M [00:10&lt;00:00, 51.0MB/s]"
          }
        },
        "57eabd8e65d84b09998d8e7942b98f08": {
          "model_module": "@jupyter-widgets/base",
          "model_name": "LayoutModel",
          "model_module_version": "1.2.0",
          "state": {
            "_model_module": "@jupyter-widgets/base",
            "_model_module_version": "1.2.0",
            "_model_name": "LayoutModel",
            "_view_count": null,
            "_view_module": "@jupyter-widgets/base",
            "_view_module_version": "1.2.0",
            "_view_name": "LayoutView",
            "align_content": null,
            "align_items": null,
            "align_self": null,
            "border": null,
            "bottom": null,
            "display": null,
            "flex": null,
            "flex_flow": null,
            "grid_area": null,
            "grid_auto_columns": null,
            "grid_auto_flow": null,
            "grid_auto_rows": null,
            "grid_column": null,
            "grid_gap": null,
            "grid_row": null,
            "grid_template_areas": null,
            "grid_template_columns": null,
            "grid_template_rows": null,
            "height": null,
            "justify_content": null,
            "justify_items": null,
            "left": null,
            "margin": null,
            "max_height": null,
            "max_width": null,
            "min_height": null,
            "min_width": null,
            "object_fit": null,
            "object_position": null,
            "order": null,
            "overflow": null,
            "overflow_x": null,
            "overflow_y": null,
            "padding": null,
            "right": null,
            "top": null,
            "visibility": null,
            "width": null
          }
        },
        "ab7cd130827d4e78879046b19d21b95f": {
          "model_module": "@jupyter-widgets/base",
          "model_name": "LayoutModel",
          "model_module_version": "1.2.0",
          "state": {
            "_model_module": "@jupyter-widgets/base",
            "_model_module_version": "1.2.0",
            "_model_name": "LayoutModel",
            "_view_count": null,
            "_view_module": "@jupyter-widgets/base",
            "_view_module_version": "1.2.0",
            "_view_name": "LayoutView",
            "align_content": null,
            "align_items": null,
            "align_self": null,
            "border": null,
            "bottom": null,
            "display": null,
            "flex": null,
            "flex_flow": null,
            "grid_area": null,
            "grid_auto_columns": null,
            "grid_auto_flow": null,
            "grid_auto_rows": null,
            "grid_column": null,
            "grid_gap": null,
            "grid_row": null,
            "grid_template_areas": null,
            "grid_template_columns": null,
            "grid_template_rows": null,
            "height": null,
            "justify_content": null,
            "justify_items": null,
            "left": null,
            "margin": null,
            "max_height": null,
            "max_width": null,
            "min_height": null,
            "min_width": null,
            "object_fit": null,
            "object_position": null,
            "order": null,
            "overflow": null,
            "overflow_x": null,
            "overflow_y": null,
            "padding": null,
            "right": null,
            "top": null,
            "visibility": null,
            "width": null
          }
        },
        "fbcc1627571f426faf6f5be2192940e1": {
          "model_module": "@jupyter-widgets/controls",
          "model_name": "DescriptionStyleModel",
          "model_module_version": "1.5.0",
          "state": {
            "_model_module": "@jupyter-widgets/controls",
            "_model_module_version": "1.5.0",
            "_model_name": "DescriptionStyleModel",
            "_view_count": null,
            "_view_module": "@jupyter-widgets/base",
            "_view_module_version": "1.2.0",
            "_view_name": "StyleView",
            "description_width": ""
          }
        },
        "92573c02db374f56a8b2eaf06fef1258": {
          "model_module": "@jupyter-widgets/base",
          "model_name": "LayoutModel",
          "model_module_version": "1.2.0",
          "state": {
            "_model_module": "@jupyter-widgets/base",
            "_model_module_version": "1.2.0",
            "_model_name": "LayoutModel",
            "_view_count": null,
            "_view_module": "@jupyter-widgets/base",
            "_view_module_version": "1.2.0",
            "_view_name": "LayoutView",
            "align_content": null,
            "align_items": null,
            "align_self": null,
            "border": null,
            "bottom": null,
            "display": null,
            "flex": null,
            "flex_flow": null,
            "grid_area": null,
            "grid_auto_columns": null,
            "grid_auto_flow": null,
            "grid_auto_rows": null,
            "grid_column": null,
            "grid_gap": null,
            "grid_row": null,
            "grid_template_areas": null,
            "grid_template_columns": null,
            "grid_template_rows": null,
            "height": null,
            "justify_content": null,
            "justify_items": null,
            "left": null,
            "margin": null,
            "max_height": null,
            "max_width": null,
            "min_height": null,
            "min_width": null,
            "object_fit": null,
            "object_position": null,
            "order": null,
            "overflow": null,
            "overflow_x": null,
            "overflow_y": null,
            "padding": null,
            "right": null,
            "top": null,
            "visibility": null,
            "width": null
          }
        },
        "417ee5bb119c4979a21bcc99b107879c": {
          "model_module": "@jupyter-widgets/controls",
          "model_name": "ProgressStyleModel",
          "model_module_version": "1.5.0",
          "state": {
            "_model_module": "@jupyter-widgets/controls",
            "_model_module_version": "1.5.0",
            "_model_name": "ProgressStyleModel",
            "_view_count": null,
            "_view_module": "@jupyter-widgets/base",
            "_view_module_version": "1.2.0",
            "_view_name": "StyleView",
            "bar_color": null,
            "description_width": ""
          }
        },
        "222af83ed31a4b08b7c1ca65627fa6eb": {
          "model_module": "@jupyter-widgets/base",
          "model_name": "LayoutModel",
          "model_module_version": "1.2.0",
          "state": {
            "_model_module": "@jupyter-widgets/base",
            "_model_module_version": "1.2.0",
            "_model_name": "LayoutModel",
            "_view_count": null,
            "_view_module": "@jupyter-widgets/base",
            "_view_module_version": "1.2.0",
            "_view_name": "LayoutView",
            "align_content": null,
            "align_items": null,
            "align_self": null,
            "border": null,
            "bottom": null,
            "display": null,
            "flex": null,
            "flex_flow": null,
            "grid_area": null,
            "grid_auto_columns": null,
            "grid_auto_flow": null,
            "grid_auto_rows": null,
            "grid_column": null,
            "grid_gap": null,
            "grid_row": null,
            "grid_template_areas": null,
            "grid_template_columns": null,
            "grid_template_rows": null,
            "height": null,
            "justify_content": null,
            "justify_items": null,
            "left": null,
            "margin": null,
            "max_height": null,
            "max_width": null,
            "min_height": null,
            "min_width": null,
            "object_fit": null,
            "object_position": null,
            "order": null,
            "overflow": null,
            "overflow_x": null,
            "overflow_y": null,
            "padding": null,
            "right": null,
            "top": null,
            "visibility": null,
            "width": null
          }
        },
        "4b502d85fd93436ea233f1863941a479": {
          "model_module": "@jupyter-widgets/controls",
          "model_name": "DescriptionStyleModel",
          "model_module_version": "1.5.0",
          "state": {
            "_model_module": "@jupyter-widgets/controls",
            "_model_module_version": "1.5.0",
            "_model_name": "DescriptionStyleModel",
            "_view_count": null,
            "_view_module": "@jupyter-widgets/base",
            "_view_module_version": "1.2.0",
            "_view_name": "StyleView",
            "description_width": ""
          }
        }
      }
    },
    "accelerator": "GPU",
    "gpuClass": "standard"
  },
  "cells": [
    {
      "cell_type": "code",
      "source": [
        "%pip install -U ginza ja-ginza ja-ginza-electra > /dev/null"
      ],
      "metadata": {
        "id": "PAWHQbDyc_Uk"
      },
      "execution_count": 1,
      "outputs": []
    },
    {
      "cell_type": "markdown",
      "source": [
        "#### RESTART RUNTIME"
      ],
      "metadata": {
        "id": "TUTMLd42rNM7"
      }
    },
    {
      "cell_type": "code",
      "source": [
        "import spacy"
      ],
      "metadata": {
        "id": "VoQFyABWe5kz"
      },
      "execution_count": 2,
      "outputs": []
    },
    {
      "cell_type": "markdown",
      "source": [
        "### ELECTRA でないモデル (単語ベクトルは word2vec)"
      ],
      "metadata": {
        "id": "AAnD7GakrjY9"
      }
    },
    {
      "cell_type": "code",
      "source": [
        "# ja-ginza モデルのロード\n",
        "nlp = spacy.load('ja_ginza')\n",
        "\n",
        "# 文の解析\n",
        "doc = nlp('会社を首になる')\n",
        "\n",
        "# doc はトークンを要素に持つイテレータになる\n",
        "print([token for token in doc])\n",
        "\n",
        "print(doc.text)         # doc 内のテキストの表示\n",
        "print(doc.has_vector)  # doc にベクトルが定義されているか (bool)\n",
        "print(doc.vector.shape) # doc に対するベクトル"
      ],
      "metadata": {
        "colab": {
          "base_uri": "https://localhost:8080/"
        },
        "id": "mZiQb4Q4gSq3",
        "outputId": "12330f0a-9056-41aa-9def-2cb52a0428ef"
      },
      "execution_count": 3,
      "outputs": [
        {
          "output_type": "stream",
          "name": "stdout",
          "text": [
            "[会社, を, 首, に, なる]\n",
            "会社を首になる\n",
            "True\n",
            "(300,)\n"
          ]
        }
      ]
    },
    {
      "cell_type": "code",
      "source": [
        "# doc を構成する単語を順番にイテレート\n",
        "for token in doc:  \n",
        "    # sum(token.vector) はベクトルの要素の合計\n",
        "    print(f\"{token.text}\\t\\t{token.has_vector}\\t{sum(token.vector)}\")"
      ],
      "metadata": {
        "colab": {
          "base_uri": "https://localhost:8080/"
        },
        "id": "hbVu63iYklqd",
        "outputId": "6dd18218-c3ed-4f40-a317-4d9e8ef496c0"
      },
      "execution_count": 4,
      "outputs": [
        {
          "output_type": "stream",
          "name": "stdout",
          "text": [
            "会社\t\tTrue\t-0.8052976123581175\n",
            "を\t\tTrue\t-2.772204238921404\n",
            "首\t\tTrue\t0.36821967632567976\n",
            "に\t\tTrue\t-1.9672063908074051\n",
            "なる\t\tTrue\t1.7768939238740131\n"
          ]
        }
      ]
    },
    {
      "cell_type": "code",
      "source": [
        "# 文の解析\n",
        "doc = nlp('首を痛める')\n",
        "\n",
        "# doc を構成する単語を順番にイテレート\n",
        "for token in doc:  \n",
        "    # sum(token.vector) はベクトルの要素の合計\n",
        "    print(f\"{token.text}\\t\\t{token.has_vector}\\t{sum(token.vector)}\")"
      ],
      "metadata": {
        "colab": {
          "base_uri": "https://localhost:8080/"
        },
        "id": "Ez_RGFPjf14E",
        "outputId": "c2cf6e60-c82d-49f4-de30-9f079ae6bc90"
      },
      "execution_count": 5,
      "outputs": [
        {
          "output_type": "stream",
          "name": "stdout",
          "text": [
            "首\t\tTrue\t0.36821967632567976\n",
            "を\t\tTrue\t-2.772204238921404\n",
            "痛める\t\tTrue\t1.2116686039371416\n"
          ]
        }
      ]
    },
    {
      "cell_type": "markdown",
      "source": [
        "### ELECTRA モデルを使用する"
      ],
      "metadata": {
        "id": "cFj6iGGBsKBH"
      }
    },
    {
      "cell_type": "code",
      "source": [
        "# ja-ginzaモデルのロード\n",
        "nlp = spacy.load('ja_ginza_electra')\n",
        "\n",
        "# 文の解析\n",
        "doc = nlp('会社を首になる')\n",
        "\n",
        "# doc はトークンを要素に持つイテレータになる\n",
        "print([token for token in doc])\n",
        "\n",
        "print(doc.text)         # doc 内のテキストの表示\n",
        "print(doc.has_vector)  # doc にベクトルが定義されているか (bool)\n",
        "print(doc.vector)       # doc に対するベクトル"
      ],
      "metadata": {
        "colab": {
          "base_uri": "https://localhost:8080/",
          "height": 174,
          "referenced_widgets": [
            "fb3f8e293a06446692c5168da2e92dae",
            "11a48d56ba894afe8472ab2aeebe47dc",
            "07b361ae2cf348e0b75be3f10b43924f",
            "8d3c7814145b422a94790e10f6fd2f94",
            "57eabd8e65d84b09998d8e7942b98f08",
            "ab7cd130827d4e78879046b19d21b95f",
            "fbcc1627571f426faf6f5be2192940e1",
            "92573c02db374f56a8b2eaf06fef1258",
            "417ee5bb119c4979a21bcc99b107879c",
            "222af83ed31a4b08b7c1ca65627fa6eb",
            "4b502d85fd93436ea233f1863941a479"
          ]
        },
        "id": "Vpza97RGgfEn",
        "outputId": "212f803d-7618-4aec-d7ed-33765b7ad528"
      },
      "execution_count": 6,
      "outputs": [
        {
          "output_type": "stream",
          "name": "stderr",
          "text": [
            "Cannot find the requested files in the cached path and outgoing traffic has been disabled. To enable model look-ups and downloads online, set 'local_files_only' to False.\n",
            "trying to download model from huggingface hub: megagonlabs/transformers-ud-japanese-electra-base-ginza-510 ...\n"
          ]
        },
        {
          "output_type": "display_data",
          "data": {
            "text/plain": [
              "Downloading:   0%|          | 0.00/414M [00:00<?, ?B/s]"
            ],
            "application/vnd.jupyter.widget-view+json": {
              "version_major": 2,
              "version_minor": 0,
              "model_id": "fb3f8e293a06446692c5168da2e92dae"
            }
          },
          "metadata": {}
        },
        {
          "output_type": "stream",
          "name": "stderr",
          "text": [
            "succeded\n"
          ]
        },
        {
          "output_type": "stream",
          "name": "stdout",
          "text": [
            "[会社, を, 首, に, なる]\n",
            "会社を首になる\n",
            "False\n",
            "[]\n"
          ]
        }
      ]
    },
    {
      "cell_type": "code",
      "source": [
        "import itertools\n",
        "import numpy as np\n",
        "\n",
        "# 出力を取得\n",
        "tensors = doc._.trf_data.tensors[0]\n",
        "print(tensors[0][0].shape)  # doc に対するベクトル\n",
        "\n",
        "# doc を構成する単語を順番にイテレート\n",
        "for idx, token in enumerate(doc):\n",
        "\n",
        "  # '今日' に対応する出力のインデックス\n",
        "  token_idxes = list(itertools.chain.from_iterable(doc._.trf_data.align[idx].data))\n",
        "\n",
        "  # token_idxes のインデックスは flatten なベクトルに対応しているので reshape する\n",
        "  tensors = np.reshape(tensors, (tensors.shape[0] * tensors.shape[1], -1))\n",
        "\n",
        "  # sum(ttensors[token_idxes])) はベクトルの要素の合計\n",
        "  print(f\"{token.text}\\t\\t{token_idxes[0]}\\t{np.sum(tensors[token_idxes])}\")"
      ],
      "metadata": {
        "colab": {
          "base_uri": "https://localhost:8080/"
        },
        "id": "mW_IsoZUinj7",
        "outputId": "18aa5d05-995a-4bd6-b25a-31be286abd10"
      },
      "execution_count": 7,
      "outputs": [
        {
          "output_type": "stream",
          "name": "stdout",
          "text": [
            "(768,)\n",
            "会社\t\t1\t5.18367862701416\n",
            "を\t\t2\t0.5097985863685608\n",
            "首\t\t3\t0.5730859041213989\n",
            "に\t\t4\t-0.30872178077697754\n",
            "なる\t\t5\t0.7547152638435364\n"
          ]
        }
      ]
    },
    {
      "cell_type": "code",
      "source": [
        "# 文の解析\n",
        "doc = nlp('首を痛める')\n",
        "\n",
        "# 出力を取得\n",
        "tensors = doc._.trf_data.tensors[0]\n",
        "print(tensors[0][0].shape)  # doc に対するベクトル\n",
        "\n",
        "# doc を構成する単語を順番にイテレート\n",
        "for idx, token in enumerate(doc):\n",
        "\n",
        "  # '今日' に対応する出力のインデックス\n",
        "  token_idxes = list(itertools.chain.from_iterable(doc._.trf_data.align[idx].data))\n",
        "\n",
        "  # token_idxes のインデックスは flatten なベクトルに対応しているので reshape する\n",
        "  tensors = np.reshape(tensors, (tensors.shape[0] * tensors.shape[1], -1))\n",
        "\n",
        "  # sum(ttensors[token_idxes])) はベクトルの要素の合計\n",
        "  print(f\"{token.text}\\t\\t{token_idxes[0]}\\t{np.sum(tensors[token_idxes])}\")"
      ],
      "metadata": {
        "colab": {
          "base_uri": "https://localhost:8080/"
        },
        "id": "8mJb2tOVgpAM",
        "outputId": "97f80735-ee0b-4f6d-e6a1-880e3e9ad3b9"
      },
      "execution_count": 8,
      "outputs": [
        {
          "output_type": "stream",
          "name": "stdout",
          "text": [
            "(768,)\n",
            "首\t\t1\t9.142280578613281\n",
            "を\t\t2\t0.31786414980888367\n",
            "痛める\t\t3\t0.07496649026870728\n"
          ]
        }
      ]
    },
    {
      "cell_type": "markdown",
      "source": [
        "### 係り受け解析"
      ],
      "metadata": {
        "id": "5KTkUlR9wtdx"
      }
    },
    {
      "cell_type": "code",
      "source": [
        "from spacy import displacy\n",
        "displacy.render(doc, style=\"dep\", options={\"compact\":True}, jupyter=True)"
      ],
      "metadata": {
        "colab": {
          "base_uri": "https://localhost:8080/",
          "height": 307
        },
        "id": "PuWyjjlKxyJb",
        "outputId": "70c28a37-0711-4567-acfc-ba86aec9ea5d"
      },
      "execution_count": 15,
      "outputs": [
        {
          "output_type": "display_data",
          "data": {
            "text/plain": [
              "<IPython.core.display.HTML object>"
            ],
            "text/html": [
              "<span class=\"tex2jax_ignore\"><svg xmlns=\"http://www.w3.org/2000/svg\" xmlns:xlink=\"http://www.w3.org/1999/xlink\" xml:lang=\"ja\" id=\"5a76e1f54ac640f49b0cd85ccbb4a468-0\" class=\"displacy\" width=\"500\" height=\"287.0\" direction=\"ltr\" style=\"max-width: none; height: 287.0px; color: #000000; background: #ffffff; font-family: Arial; direction: ltr\">\n",
              "<text class=\"displacy-token\" fill=\"currentColor\" text-anchor=\"middle\" y=\"197.0\">\n",
              "    <tspan class=\"displacy-word\" fill=\"currentColor\" x=\"50\">首</tspan>\n",
              "    <tspan class=\"displacy-tag\" dy=\"2em\" fill=\"currentColor\" x=\"50\">NOUN</tspan>\n",
              "</text>\n",
              "\n",
              "<text class=\"displacy-token\" fill=\"currentColor\" text-anchor=\"middle\" y=\"197.0\">\n",
              "    <tspan class=\"displacy-word\" fill=\"currentColor\" x=\"200\">を</tspan>\n",
              "    <tspan class=\"displacy-tag\" dy=\"2em\" fill=\"currentColor\" x=\"200\">ADP</tspan>\n",
              "</text>\n",
              "\n",
              "<text class=\"displacy-token\" fill=\"currentColor\" text-anchor=\"middle\" y=\"197.0\">\n",
              "    <tspan class=\"displacy-word\" fill=\"currentColor\" x=\"350\">痛める</tspan>\n",
              "    <tspan class=\"displacy-tag\" dy=\"2em\" fill=\"currentColor\" x=\"350\">VERB</tspan>\n",
              "</text>\n",
              "\n",
              "<g class=\"displacy-arrow\">\n",
              "    <path class=\"displacy-arc\" id=\"arrow-5a76e1f54ac640f49b0cd85ccbb4a468-0-0\" stroke-width=\"2px\" d=\"M62,152.0 62,102.0 350.0,102.0 350.0,152.0\" fill=\"none\" stroke=\"currentColor\"/>\n",
              "    <text dy=\"1.25em\" style=\"font-size: 0.8em; letter-spacing: 1px\">\n",
              "        <textPath xlink:href=\"#arrow-5a76e1f54ac640f49b0cd85ccbb4a468-0-0\" class=\"displacy-label\" startOffset=\"50%\" side=\"left\" fill=\"currentColor\" text-anchor=\"middle\">obj</textPath>\n",
              "    </text>\n",
              "    <path class=\"displacy-arrowhead\" d=\"M62,154.0 L58,146.0 66,146.0\" fill=\"currentColor\"/>\n",
              "</g>\n",
              "\n",
              "<g class=\"displacy-arrow\">\n",
              "    <path class=\"displacy-arc\" id=\"arrow-5a76e1f54ac640f49b0cd85ccbb4a468-0-1\" stroke-width=\"2px\" d=\"M62,152.0 62,127.0 197.0,127.0 197.0,152.0\" fill=\"none\" stroke=\"currentColor\"/>\n",
              "    <text dy=\"1.25em\" style=\"font-size: 0.8em; letter-spacing: 1px\">\n",
              "        <textPath xlink:href=\"#arrow-5a76e1f54ac640f49b0cd85ccbb4a468-0-1\" class=\"displacy-label\" startOffset=\"50%\" side=\"left\" fill=\"currentColor\" text-anchor=\"middle\">case</textPath>\n",
              "    </text>\n",
              "    <path class=\"displacy-arrowhead\" d=\"M197.0,154.0 L201.0,146.0 193.0,146.0\" fill=\"currentColor\"/>\n",
              "</g>\n",
              "</svg></span>"
            ]
          },
          "metadata": {}
        }
      ]
    },
    {
      "cell_type": "markdown",
      "source": [
        "### 固有表現抽出"
      ],
      "metadata": {
        "id": "ToznTv8oyJPA"
      }
    },
    {
      "cell_type": "code",
      "source": [
        "# 文の解析\n",
        "doc = nlp('日本の首都は東京です')\n",
        "displacy.render(doc, style=\"ent\", jupyter=True)"
      ],
      "metadata": {
        "colab": {
          "base_uri": "https://localhost:8080/",
          "height": 52
        },
        "id": "oJzhuUcox30a",
        "outputId": "30ad70bd-352b-4a04-ddab-54af84e1f987"
      },
      "execution_count": 18,
      "outputs": [
        {
          "output_type": "display_data",
          "data": {
            "text/plain": [
              "<IPython.core.display.HTML object>"
            ],
            "text/html": [
              "<span class=\"tex2jax_ignore\"><div class=\"entities\" style=\"line-height: 2.5; direction: ltr\">\n",
              "<mark class=\"entity\" style=\"background: #ddd; padding: 0.45em 0.6em; margin: 0 0.25em; line-height: 1; border-radius: 0.35em;\">\n",
              "    日本\n",
              "    <span style=\"font-size: 0.8em; font-weight: bold; line-height: 1; border-radius: 0.35em; vertical-align: middle; margin-left: 0.5rem\">Country</span>\n",
              "</mark>\n",
              "の首都は\n",
              "<mark class=\"entity\" style=\"background: #ddd; padding: 0.45em 0.6em; margin: 0 0.25em; line-height: 1; border-radius: 0.35em;\">\n",
              "    東京\n",
              "    <span style=\"font-size: 0.8em; font-weight: bold; line-height: 1; border-radius: 0.35em; vertical-align: middle; margin-left: 0.5rem\">Province</span>\n",
              "</mark>\n",
              "です</div></span>"
            ]
          },
          "metadata": {}
        }
      ]
    }
  ]
}