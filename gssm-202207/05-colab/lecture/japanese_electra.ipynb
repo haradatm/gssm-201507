{
  "nbformat": 4,
  "nbformat_minor": 0,
  "metadata": {
    "colab": {
      "name": "japanese_electra.ipynb",
      "provenance": [],
      "collapsed_sections": [],
      "machine_shape": "hm"
    },
    "kernelspec": {
      "display_name": "Python 3",
      "name": "python3"
    },
    "language_info": {
      "name": "python"
    },
    "widgets": {
      "application/vnd.jupyter.widget-state+json": {
        "e60551a5cc5447cd90878231c11a2282": {
          "model_module": "@jupyter-widgets/controls",
          "model_name": "HBoxModel",
          "model_module_version": "1.5.0",
          "state": {
            "_dom_classes": [],
            "_model_module": "@jupyter-widgets/controls",
            "_model_module_version": "1.5.0",
            "_model_name": "HBoxModel",
            "_view_count": null,
            "_view_module": "@jupyter-widgets/controls",
            "_view_module_version": "1.5.0",
            "_view_name": "HBoxView",
            "box_style": "",
            "children": [
              "IPY_MODEL_ce1006eeee4e45589e15d595b5834dd5",
              "IPY_MODEL_69259a4a461a4c6cbe215d279902c1c9",
              "IPY_MODEL_7b7eae4c33f94e01b6eac52edc8f60e0"
            ],
            "layout": "IPY_MODEL_4f727bceb6b5437eaf1738c663da21d3"
          }
        },
        "ce1006eeee4e45589e15d595b5834dd5": {
          "model_module": "@jupyter-widgets/controls",
          "model_name": "HTMLModel",
          "model_module_version": "1.5.0",
          "state": {
            "_dom_classes": [],
            "_model_module": "@jupyter-widgets/controls",
            "_model_module_version": "1.5.0",
            "_model_name": "HTMLModel",
            "_view_count": null,
            "_view_module": "@jupyter-widgets/controls",
            "_view_module_version": "1.5.0",
            "_view_name": "HTMLView",
            "description": "",
            "description_tooltip": null,
            "layout": "IPY_MODEL_1a0f0ae0bc6040acb9270818f225dc26",
            "placeholder": "​",
            "style": "IPY_MODEL_cf2f05a3f0ed40c3a6ec8c1fab6a1e7a",
            "value": "Downloading: 100%"
          }
        },
        "69259a4a461a4c6cbe215d279902c1c9": {
          "model_module": "@jupyter-widgets/controls",
          "model_name": "FloatProgressModel",
          "model_module_version": "1.5.0",
          "state": {
            "_dom_classes": [],
            "_model_module": "@jupyter-widgets/controls",
            "_model_module_version": "1.5.0",
            "_model_name": "FloatProgressModel",
            "_view_count": null,
            "_view_module": "@jupyter-widgets/controls",
            "_view_module_version": "1.5.0",
            "_view_name": "ProgressView",
            "bar_style": "success",
            "description": "",
            "description_tooltip": null,
            "layout": "IPY_MODEL_2a56e71625c14226902fea64a126904c",
            "max": 815,
            "min": 0,
            "orientation": "horizontal",
            "style": "IPY_MODEL_fe5aaee69f21471abfa1481c0f12e7ca",
            "value": 815
          }
        },
        "7b7eae4c33f94e01b6eac52edc8f60e0": {
          "model_module": "@jupyter-widgets/controls",
          "model_name": "HTMLModel",
          "model_module_version": "1.5.0",
          "state": {
            "_dom_classes": [],
            "_model_module": "@jupyter-widgets/controls",
            "_model_module_version": "1.5.0",
            "_model_name": "HTMLModel",
            "_view_count": null,
            "_view_module": "@jupyter-widgets/controls",
            "_view_module_version": "1.5.0",
            "_view_name": "HTMLView",
            "description": "",
            "description_tooltip": null,
            "layout": "IPY_MODEL_8e99c7c6329d4f55b83661f2637acbd4",
            "placeholder": "​",
            "style": "IPY_MODEL_69675af102cc4b6680c30ada5edcf509",
            "value": " 815/815 [00:00&lt;00:00, 14.6kB/s]"
          }
        },
        "4f727bceb6b5437eaf1738c663da21d3": {
          "model_module": "@jupyter-widgets/base",
          "model_name": "LayoutModel",
          "model_module_version": "1.2.0",
          "state": {
            "_model_module": "@jupyter-widgets/base",
            "_model_module_version": "1.2.0",
            "_model_name": "LayoutModel",
            "_view_count": null,
            "_view_module": "@jupyter-widgets/base",
            "_view_module_version": "1.2.0",
            "_view_name": "LayoutView",
            "align_content": null,
            "align_items": null,
            "align_self": null,
            "border": null,
            "bottom": null,
            "display": null,
            "flex": null,
            "flex_flow": null,
            "grid_area": null,
            "grid_auto_columns": null,
            "grid_auto_flow": null,
            "grid_auto_rows": null,
            "grid_column": null,
            "grid_gap": null,
            "grid_row": null,
            "grid_template_areas": null,
            "grid_template_columns": null,
            "grid_template_rows": null,
            "height": null,
            "justify_content": null,
            "justify_items": null,
            "left": null,
            "margin": null,
            "max_height": null,
            "max_width": null,
            "min_height": null,
            "min_width": null,
            "object_fit": null,
            "object_position": null,
            "order": null,
            "overflow": null,
            "overflow_x": null,
            "overflow_y": null,
            "padding": null,
            "right": null,
            "top": null,
            "visibility": null,
            "width": null
          }
        },
        "1a0f0ae0bc6040acb9270818f225dc26": {
          "model_module": "@jupyter-widgets/base",
          "model_name": "LayoutModel",
          "model_module_version": "1.2.0",
          "state": {
            "_model_module": "@jupyter-widgets/base",
            "_model_module_version": "1.2.0",
            "_model_name": "LayoutModel",
            "_view_count": null,
            "_view_module": "@jupyter-widgets/base",
            "_view_module_version": "1.2.0",
            "_view_name": "LayoutView",
            "align_content": null,
            "align_items": null,
            "align_self": null,
            "border": null,
            "bottom": null,
            "display": null,
            "flex": null,
            "flex_flow": null,
            "grid_area": null,
            "grid_auto_columns": null,
            "grid_auto_flow": null,
            "grid_auto_rows": null,
            "grid_column": null,
            "grid_gap": null,
            "grid_row": null,
            "grid_template_areas": null,
            "grid_template_columns": null,
            "grid_template_rows": null,
            "height": null,
            "justify_content": null,
            "justify_items": null,
            "left": null,
            "margin": null,
            "max_height": null,
            "max_width": null,
            "min_height": null,
            "min_width": null,
            "object_fit": null,
            "object_position": null,
            "order": null,
            "overflow": null,
            "overflow_x": null,
            "overflow_y": null,
            "padding": null,
            "right": null,
            "top": null,
            "visibility": null,
            "width": null
          }
        },
        "cf2f05a3f0ed40c3a6ec8c1fab6a1e7a": {
          "model_module": "@jupyter-widgets/controls",
          "model_name": "DescriptionStyleModel",
          "model_module_version": "1.5.0",
          "state": {
            "_model_module": "@jupyter-widgets/controls",
            "_model_module_version": "1.5.0",
            "_model_name": "DescriptionStyleModel",
            "_view_count": null,
            "_view_module": "@jupyter-widgets/base",
            "_view_module_version": "1.2.0",
            "_view_name": "StyleView",
            "description_width": ""
          }
        },
        "2a56e71625c14226902fea64a126904c": {
          "model_module": "@jupyter-widgets/base",
          "model_name": "LayoutModel",
          "model_module_version": "1.2.0",
          "state": {
            "_model_module": "@jupyter-widgets/base",
            "_model_module_version": "1.2.0",
            "_model_name": "LayoutModel",
            "_view_count": null,
            "_view_module": "@jupyter-widgets/base",
            "_view_module_version": "1.2.0",
            "_view_name": "LayoutView",
            "align_content": null,
            "align_items": null,
            "align_self": null,
            "border": null,
            "bottom": null,
            "display": null,
            "flex": null,
            "flex_flow": null,
            "grid_area": null,
            "grid_auto_columns": null,
            "grid_auto_flow": null,
            "grid_auto_rows": null,
            "grid_column": null,
            "grid_gap": null,
            "grid_row": null,
            "grid_template_areas": null,
            "grid_template_columns": null,
            "grid_template_rows": null,
            "height": null,
            "justify_content": null,
            "justify_items": null,
            "left": null,
            "margin": null,
            "max_height": null,
            "max_width": null,
            "min_height": null,
            "min_width": null,
            "object_fit": null,
            "object_position": null,
            "order": null,
            "overflow": null,
            "overflow_x": null,
            "overflow_y": null,
            "padding": null,
            "right": null,
            "top": null,
            "visibility": null,
            "width": null
          }
        },
        "fe5aaee69f21471abfa1481c0f12e7ca": {
          "model_module": "@jupyter-widgets/controls",
          "model_name": "ProgressStyleModel",
          "model_module_version": "1.5.0",
          "state": {
            "_model_module": "@jupyter-widgets/controls",
            "_model_module_version": "1.5.0",
            "_model_name": "ProgressStyleModel",
            "_view_count": null,
            "_view_module": "@jupyter-widgets/base",
            "_view_module_version": "1.2.0",
            "_view_name": "StyleView",
            "bar_color": null,
            "description_width": ""
          }
        },
        "8e99c7c6329d4f55b83661f2637acbd4": {
          "model_module": "@jupyter-widgets/base",
          "model_name": "LayoutModel",
          "model_module_version": "1.2.0",
          "state": {
            "_model_module": "@jupyter-widgets/base",
            "_model_module_version": "1.2.0",
            "_model_name": "LayoutModel",
            "_view_count": null,
            "_view_module": "@jupyter-widgets/base",
            "_view_module_version": "1.2.0",
            "_view_name": "LayoutView",
            "align_content": null,
            "align_items": null,
            "align_self": null,
            "border": null,
            "bottom": null,
            "display": null,
            "flex": null,
            "flex_flow": null,
            "grid_area": null,
            "grid_auto_columns": null,
            "grid_auto_flow": null,
            "grid_auto_rows": null,
            "grid_column": null,
            "grid_gap": null,
            "grid_row": null,
            "grid_template_areas": null,
            "grid_template_columns": null,
            "grid_template_rows": null,
            "height": null,
            "justify_content": null,
            "justify_items": null,
            "left": null,
            "margin": null,
            "max_height": null,
            "max_width": null,
            "min_height": null,
            "min_width": null,
            "object_fit": null,
            "object_position": null,
            "order": null,
            "overflow": null,
            "overflow_x": null,
            "overflow_y": null,
            "padding": null,
            "right": null,
            "top": null,
            "visibility": null,
            "width": null
          }
        },
        "69675af102cc4b6680c30ada5edcf509": {
          "model_module": "@jupyter-widgets/controls",
          "model_name": "DescriptionStyleModel",
          "model_module_version": "1.5.0",
          "state": {
            "_model_module": "@jupyter-widgets/controls",
            "_model_module_version": "1.5.0",
            "_model_name": "DescriptionStyleModel",
            "_view_count": null,
            "_view_module": "@jupyter-widgets/base",
            "_view_module_version": "1.2.0",
            "_view_name": "StyleView",
            "description_width": ""
          }
        },
        "eda9ceadfedd4dd29dcd84c6881f1ad4": {
          "model_module": "@jupyter-widgets/controls",
          "model_name": "HBoxModel",
          "model_module_version": "1.5.0",
          "state": {
            "_dom_classes": [],
            "_model_module": "@jupyter-widgets/controls",
            "_model_module_version": "1.5.0",
            "_model_name": "HBoxModel",
            "_view_count": null,
            "_view_module": "@jupyter-widgets/controls",
            "_view_module_version": "1.5.0",
            "_view_name": "HBoxView",
            "box_style": "",
            "children": [
              "IPY_MODEL_0efefad35cec402aa99b2f0fe3bc8356",
              "IPY_MODEL_cee65e36f7b540859d5332637b01dae0",
              "IPY_MODEL_5b96d4f7481a4d7cafd9f3e14e7e6135"
            ],
            "layout": "IPY_MODEL_25dd5c30616f4f13ac6083d95edd694e"
          }
        },
        "0efefad35cec402aa99b2f0fe3bc8356": {
          "model_module": "@jupyter-widgets/controls",
          "model_name": "HTMLModel",
          "model_module_version": "1.5.0",
          "state": {
            "_dom_classes": [],
            "_model_module": "@jupyter-widgets/controls",
            "_model_module_version": "1.5.0",
            "_model_name": "HTMLModel",
            "_view_count": null,
            "_view_module": "@jupyter-widgets/controls",
            "_view_module_version": "1.5.0",
            "_view_name": "HTMLView",
            "description": "",
            "description_tooltip": null,
            "layout": "IPY_MODEL_5b5e0afd80ec486094fb687e12949086",
            "placeholder": "​",
            "style": "IPY_MODEL_24c2cc28c6c24035a4f4165856ba2f85",
            "value": "Downloading: 100%"
          }
        },
        "cee65e36f7b540859d5332637b01dae0": {
          "model_module": "@jupyter-widgets/controls",
          "model_name": "FloatProgressModel",
          "model_module_version": "1.5.0",
          "state": {
            "_dom_classes": [],
            "_model_module": "@jupyter-widgets/controls",
            "_model_module_version": "1.5.0",
            "_model_name": "FloatProgressModel",
            "_view_count": null,
            "_view_module": "@jupyter-widgets/controls",
            "_view_module_version": "1.5.0",
            "_view_name": "ProgressView",
            "bar_style": "success",
            "description": "",
            "description_tooltip": null,
            "layout": "IPY_MODEL_f5716a6bc4184029918d383782336705",
            "max": 434384949,
            "min": 0,
            "orientation": "horizontal",
            "style": "IPY_MODEL_64a53e4baeb34e1ebca08bc5c78cb413",
            "value": 434384949
          }
        },
        "5b96d4f7481a4d7cafd9f3e14e7e6135": {
          "model_module": "@jupyter-widgets/controls",
          "model_name": "HTMLModel",
          "model_module_version": "1.5.0",
          "state": {
            "_dom_classes": [],
            "_model_module": "@jupyter-widgets/controls",
            "_model_module_version": "1.5.0",
            "_model_name": "HTMLModel",
            "_view_count": null,
            "_view_module": "@jupyter-widgets/controls",
            "_view_module_version": "1.5.0",
            "_view_name": "HTMLView",
            "description": "",
            "description_tooltip": null,
            "layout": "IPY_MODEL_d14975349d9a4df3b7d4d564d733960b",
            "placeholder": "​",
            "style": "IPY_MODEL_af9555e6d28549e4950a3cbd7a555fdc",
            "value": " 414M/414M [00:10&lt;00:00, 57.0MB/s]"
          }
        },
        "25dd5c30616f4f13ac6083d95edd694e": {
          "model_module": "@jupyter-widgets/base",
          "model_name": "LayoutModel",
          "model_module_version": "1.2.0",
          "state": {
            "_model_module": "@jupyter-widgets/base",
            "_model_module_version": "1.2.0",
            "_model_name": "LayoutModel",
            "_view_count": null,
            "_view_module": "@jupyter-widgets/base",
            "_view_module_version": "1.2.0",
            "_view_name": "LayoutView",
            "align_content": null,
            "align_items": null,
            "align_self": null,
            "border": null,
            "bottom": null,
            "display": null,
            "flex": null,
            "flex_flow": null,
            "grid_area": null,
            "grid_auto_columns": null,
            "grid_auto_flow": null,
            "grid_auto_rows": null,
            "grid_column": null,
            "grid_gap": null,
            "grid_row": null,
            "grid_template_areas": null,
            "grid_template_columns": null,
            "grid_template_rows": null,
            "height": null,
            "justify_content": null,
            "justify_items": null,
            "left": null,
            "margin": null,
            "max_height": null,
            "max_width": null,
            "min_height": null,
            "min_width": null,
            "object_fit": null,
            "object_position": null,
            "order": null,
            "overflow": null,
            "overflow_x": null,
            "overflow_y": null,
            "padding": null,
            "right": null,
            "top": null,
            "visibility": null,
            "width": null
          }
        },
        "5b5e0afd80ec486094fb687e12949086": {
          "model_module": "@jupyter-widgets/base",
          "model_name": "LayoutModel",
          "model_module_version": "1.2.0",
          "state": {
            "_model_module": "@jupyter-widgets/base",
            "_model_module_version": "1.2.0",
            "_model_name": "LayoutModel",
            "_view_count": null,
            "_view_module": "@jupyter-widgets/base",
            "_view_module_version": "1.2.0",
            "_view_name": "LayoutView",
            "align_content": null,
            "align_items": null,
            "align_self": null,
            "border": null,
            "bottom": null,
            "display": null,
            "flex": null,
            "flex_flow": null,
            "grid_area": null,
            "grid_auto_columns": null,
            "grid_auto_flow": null,
            "grid_auto_rows": null,
            "grid_column": null,
            "grid_gap": null,
            "grid_row": null,
            "grid_template_areas": null,
            "grid_template_columns": null,
            "grid_template_rows": null,
            "height": null,
            "justify_content": null,
            "justify_items": null,
            "left": null,
            "margin": null,
            "max_height": null,
            "max_width": null,
            "min_height": null,
            "min_width": null,
            "object_fit": null,
            "object_position": null,
            "order": null,
            "overflow": null,
            "overflow_x": null,
            "overflow_y": null,
            "padding": null,
            "right": null,
            "top": null,
            "visibility": null,
            "width": null
          }
        },
        "24c2cc28c6c24035a4f4165856ba2f85": {
          "model_module": "@jupyter-widgets/controls",
          "model_name": "DescriptionStyleModel",
          "model_module_version": "1.5.0",
          "state": {
            "_model_module": "@jupyter-widgets/controls",
            "_model_module_version": "1.5.0",
            "_model_name": "DescriptionStyleModel",
            "_view_count": null,
            "_view_module": "@jupyter-widgets/base",
            "_view_module_version": "1.2.0",
            "_view_name": "StyleView",
            "description_width": ""
          }
        },
        "f5716a6bc4184029918d383782336705": {
          "model_module": "@jupyter-widgets/base",
          "model_name": "LayoutModel",
          "model_module_version": "1.2.0",
          "state": {
            "_model_module": "@jupyter-widgets/base",
            "_model_module_version": "1.2.0",
            "_model_name": "LayoutModel",
            "_view_count": null,
            "_view_module": "@jupyter-widgets/base",
            "_view_module_version": "1.2.0",
            "_view_name": "LayoutView",
            "align_content": null,
            "align_items": null,
            "align_self": null,
            "border": null,
            "bottom": null,
            "display": null,
            "flex": null,
            "flex_flow": null,
            "grid_area": null,
            "grid_auto_columns": null,
            "grid_auto_flow": null,
            "grid_auto_rows": null,
            "grid_column": null,
            "grid_gap": null,
            "grid_row": null,
            "grid_template_areas": null,
            "grid_template_columns": null,
            "grid_template_rows": null,
            "height": null,
            "justify_content": null,
            "justify_items": null,
            "left": null,
            "margin": null,
            "max_height": null,
            "max_width": null,
            "min_height": null,
            "min_width": null,
            "object_fit": null,
            "object_position": null,
            "order": null,
            "overflow": null,
            "overflow_x": null,
            "overflow_y": null,
            "padding": null,
            "right": null,
            "top": null,
            "visibility": null,
            "width": null
          }
        },
        "64a53e4baeb34e1ebca08bc5c78cb413": {
          "model_module": "@jupyter-widgets/controls",
          "model_name": "ProgressStyleModel",
          "model_module_version": "1.5.0",
          "state": {
            "_model_module": "@jupyter-widgets/controls",
            "_model_module_version": "1.5.0",
            "_model_name": "ProgressStyleModel",
            "_view_count": null,
            "_view_module": "@jupyter-widgets/base",
            "_view_module_version": "1.2.0",
            "_view_name": "StyleView",
            "bar_color": null,
            "description_width": ""
          }
        },
        "d14975349d9a4df3b7d4d564d733960b": {
          "model_module": "@jupyter-widgets/base",
          "model_name": "LayoutModel",
          "model_module_version": "1.2.0",
          "state": {
            "_model_module": "@jupyter-widgets/base",
            "_model_module_version": "1.2.0",
            "_model_name": "LayoutModel",
            "_view_count": null,
            "_view_module": "@jupyter-widgets/base",
            "_view_module_version": "1.2.0",
            "_view_name": "LayoutView",
            "align_content": null,
            "align_items": null,
            "align_self": null,
            "border": null,
            "bottom": null,
            "display": null,
            "flex": null,
            "flex_flow": null,
            "grid_area": null,
            "grid_auto_columns": null,
            "grid_auto_flow": null,
            "grid_auto_rows": null,
            "grid_column": null,
            "grid_gap": null,
            "grid_row": null,
            "grid_template_areas": null,
            "grid_template_columns": null,
            "grid_template_rows": null,
            "height": null,
            "justify_content": null,
            "justify_items": null,
            "left": null,
            "margin": null,
            "max_height": null,
            "max_width": null,
            "min_height": null,
            "min_width": null,
            "object_fit": null,
            "object_position": null,
            "order": null,
            "overflow": null,
            "overflow_x": null,
            "overflow_y": null,
            "padding": null,
            "right": null,
            "top": null,
            "visibility": null,
            "width": null
          }
        },
        "af9555e6d28549e4950a3cbd7a555fdc": {
          "model_module": "@jupyter-widgets/controls",
          "model_name": "DescriptionStyleModel",
          "model_module_version": "1.5.0",
          "state": {
            "_model_module": "@jupyter-widgets/controls",
            "_model_module_version": "1.5.0",
            "_model_name": "DescriptionStyleModel",
            "_view_count": null,
            "_view_module": "@jupyter-widgets/base",
            "_view_module_version": "1.2.0",
            "_view_name": "StyleView",
            "description_width": ""
          }
        }
      }
    },
    "accelerator": "GPU",
    "gpuClass": "standard"
  },
  "cells": [
    {
      "cell_type": "code",
      "source": [
        "%pip install -U ginza ja-ginza ja-ginza-electra > /dev/null"
      ],
      "metadata": {
        "id": "PAWHQbDyc_Uk"
      },
      "execution_count": 1,
      "outputs": []
    },
    {
      "cell_type": "markdown",
      "source": [
        "#### RESTART RUNTIME"
      ],
      "metadata": {
        "id": "TUTMLd42rNM7"
      }
    },
    {
      "cell_type": "code",
      "source": [
        "import spacy"
      ],
      "metadata": {
        "id": "VoQFyABWe5kz"
      },
      "execution_count": 2,
      "outputs": []
    },
    {
      "cell_type": "markdown",
      "source": [
        "### ELECTRA でないモデル (単語ベクトルは word2vec)"
      ],
      "metadata": {
        "id": "AAnD7GakrjY9"
      }
    },
    {
      "cell_type": "code",
      "source": [
        "# ja-ginza モデルのロード\n",
        "nlp = spacy.load('ja_ginza')\n",
        "\n",
        "# 文の解析\n",
        "doc = nlp('会社を首になる')\n",
        "\n",
        "# doc はトークンを要素に持つイテレータになる\n",
        "print([token for token in doc])\n",
        "\n",
        "print(doc.text)         # doc 内のテキストの表示\n",
        "print(doc.has_vector)  # doc にベクトルが定義されているか (bool)\n",
        "print(doc.vector.shape) # doc に対するベクトル"
      ],
      "metadata": {
        "colab": {
          "base_uri": "https://localhost:8080/"
        },
        "id": "mZiQb4Q4gSq3",
        "outputId": "3eda24cb-ab63-432b-e358-231993657419"
      },
      "execution_count": 3,
      "outputs": [
        {
          "output_type": "stream",
          "name": "stdout",
          "text": [
            "[会社, を, 首, に, なる]\n",
            "会社を首になる\n",
            "True\n",
            "(300,)\n"
          ]
        }
      ]
    },
    {
      "cell_type": "code",
      "source": [
        "# doc を構成する単語を順番にイテレート\n",
        "for token in doc:  \n",
        "    # sum(token.vector) はベクトルの要素の合計\n",
        "    print(f\"{token.text}\\t\\t{token.has_vector}\\t{sum(token.vector)}\")"
      ],
      "metadata": {
        "colab": {
          "base_uri": "https://localhost:8080/"
        },
        "id": "hbVu63iYklqd",
        "outputId": "a7d8ad15-79e3-4dcf-ed21-7429678ce295"
      },
      "execution_count": 4,
      "outputs": [
        {
          "output_type": "stream",
          "name": "stdout",
          "text": [
            "会社\t\tTrue\t-0.8052976123581175\n",
            "を\t\tTrue\t-2.772204238921404\n",
            "首\t\tTrue\t0.36821967632567976\n",
            "に\t\tTrue\t-1.9672063908074051\n",
            "なる\t\tTrue\t1.7768939238740131\n"
          ]
        }
      ]
    },
    {
      "cell_type": "code",
      "source": [
        "# 文の解析\n",
        "doc = nlp('首を痛める')\n",
        "\n",
        "# doc を構成する単語を順番にイテレート\n",
        "for token in doc:  \n",
        "    # sum(token.vector) はベクトルの要素の合計\n",
        "    print(f\"{token.text}\\t\\t{token.has_vector}\\t{sum(token.vector)}\")"
      ],
      "metadata": {
        "colab": {
          "base_uri": "https://localhost:8080/"
        },
        "id": "Ez_RGFPjf14E",
        "outputId": "f0d043be-7663-4aa7-b941-72de5cd888eb"
      },
      "execution_count": 5,
      "outputs": [
        {
          "output_type": "stream",
          "name": "stdout",
          "text": [
            "首\t\tTrue\t0.36821967632567976\n",
            "を\t\tTrue\t-2.772204238921404\n",
            "痛める\t\tTrue\t1.2116686039371416\n"
          ]
        }
      ]
    },
    {
      "cell_type": "markdown",
      "source": [
        "### ELECTRA モデルを使用する"
      ],
      "metadata": {
        "id": "cFj6iGGBsKBH"
      }
    },
    {
      "cell_type": "code",
      "source": [
        "# ja-ginzaモデルのロード\n",
        "nlp = spacy.load('ja_ginza_electra')\n",
        "\n",
        "# 文の解析\n",
        "doc = nlp('会社を首になる')\n",
        "\n",
        "# doc はトークンを要素に持つイテレータになる\n",
        "print([token for token in doc])\n",
        "\n",
        "print(doc.text)         # doc 内のテキストの表示\n",
        "print(doc.has_vector)  # doc にベクトルが定義されているか (bool)\n",
        "print(doc.vector)       # doc に対するベクトル"
      ],
      "metadata": {
        "colab": {
          "base_uri": "https://localhost:8080/",
          "height": 206,
          "referenced_widgets": [
            "e60551a5cc5447cd90878231c11a2282",
            "ce1006eeee4e45589e15d595b5834dd5",
            "69259a4a461a4c6cbe215d279902c1c9",
            "7b7eae4c33f94e01b6eac52edc8f60e0",
            "4f727bceb6b5437eaf1738c663da21d3",
            "1a0f0ae0bc6040acb9270818f225dc26",
            "cf2f05a3f0ed40c3a6ec8c1fab6a1e7a",
            "2a56e71625c14226902fea64a126904c",
            "fe5aaee69f21471abfa1481c0f12e7ca",
            "8e99c7c6329d4f55b83661f2637acbd4",
            "69675af102cc4b6680c30ada5edcf509",
            "eda9ceadfedd4dd29dcd84c6881f1ad4",
            "0efefad35cec402aa99b2f0fe3bc8356",
            "cee65e36f7b540859d5332637b01dae0",
            "5b96d4f7481a4d7cafd9f3e14e7e6135",
            "25dd5c30616f4f13ac6083d95edd694e",
            "5b5e0afd80ec486094fb687e12949086",
            "24c2cc28c6c24035a4f4165856ba2f85",
            "f5716a6bc4184029918d383782336705",
            "64a53e4baeb34e1ebca08bc5c78cb413",
            "d14975349d9a4df3b7d4d564d733960b",
            "af9555e6d28549e4950a3cbd7a555fdc"
          ]
        },
        "id": "Vpza97RGgfEn",
        "outputId": "dd1c3edc-05ae-41fa-e9a8-6d0a202f8dad"
      },
      "execution_count": 6,
      "outputs": [
        {
          "output_type": "stream",
          "name": "stderr",
          "text": [
            "Cannot find the requested files in the cached path and outgoing traffic has been disabled. To enable model look-ups and downloads online, set 'local_files_only' to False.\n",
            "trying to download model from huggingface hub: megagonlabs/transformers-ud-japanese-electra-base-ginza-510 ...\n"
          ]
        },
        {
          "output_type": "display_data",
          "data": {
            "text/plain": [
              "Downloading:   0%|          | 0.00/815 [00:00<?, ?B/s]"
            ],
            "application/vnd.jupyter.widget-view+json": {
              "version_major": 2,
              "version_minor": 0,
              "model_id": "e60551a5cc5447cd90878231c11a2282"
            }
          },
          "metadata": {}
        },
        {
          "output_type": "display_data",
          "data": {
            "text/plain": [
              "Downloading:   0%|          | 0.00/414M [00:00<?, ?B/s]"
            ],
            "application/vnd.jupyter.widget-view+json": {
              "version_major": 2,
              "version_minor": 0,
              "model_id": "eda9ceadfedd4dd29dcd84c6881f1ad4"
            }
          },
          "metadata": {}
        },
        {
          "output_type": "stream",
          "name": "stdout",
          "text": [
            "[会社, を, 首, に, なる]\n",
            "会社を首になる\n",
            "False\n",
            "[]\n"
          ]
        },
        {
          "output_type": "stream",
          "name": "stderr",
          "text": [
            "succeded\n"
          ]
        }
      ]
    },
    {
      "cell_type": "code",
      "source": [
        "import itertools\n",
        "import numpy as np\n",
        "\n",
        "# 出力を取得\n",
        "tensors = doc._.trf_data.tensors[0]\n",
        "print(tensors[0][0].shape)  # doc に対するベクトル\n",
        "\n",
        "# doc を構成する単語を順番にイテレート\n",
        "for idx, token in enumerate(doc):\n",
        "\n",
        "  # 単語の出現順に対応する出力のインデックス\n",
        "  token_idxes = list(itertools.chain.from_iterable(doc._.trf_data.align[idx].data))\n",
        "\n",
        "  # token_idxes のインデックスは flatten なベクトルに対応しているので reshape する\n",
        "  tensors = doc._.trf_data.tensors[0]\n",
        "  tensors = np.reshape(tensors, (tensors.shape[0] * tensors.shape[1], -1))\n",
        "\n",
        "  # sum(ttensors[token_idxes])) はベクトルの要素の合計\n",
        "  print(f\"{token.text}\\t\\t{token_idxes[0]}\\t{np.sum(tensors[token_idxes])}\")"
      ],
      "metadata": {
        "colab": {
          "base_uri": "https://localhost:8080/"
        },
        "id": "mW_IsoZUinj7",
        "outputId": "3d0bd410-99d9-4842-ddd7-250f3ab756a1"
      },
      "execution_count": 7,
      "outputs": [
        {
          "output_type": "stream",
          "name": "stdout",
          "text": [
            "(768,)\n",
            "会社\t\t1\t5.18367862701416\n",
            "を\t\t2\t19.149784088134766\n",
            "首\t\t3\t9.717369079589844\n",
            "に\t\t4\t11.865123748779297\n",
            "なる\t\t5\t-4.88286018371582\n"
          ]
        }
      ]
    },
    {
      "cell_type": "code",
      "source": [
        "# 文の解析\n",
        "doc = nlp('首を痛める')\n",
        "\n",
        "# 出力を取得\n",
        "tensors = doc._.trf_data.tensors[0]\n",
        "print(tensors[0][0].shape)  # doc に対するベクトル\n",
        "\n",
        "# doc を構成する単語を順番にイテレート\n",
        "for idx, token in enumerate(doc):\n",
        "\n",
        "  # 単語の出現順に対応する出力のインデックス\n",
        "  tensors = doc._.trf_data.tensors[0]\n",
        "  token_idxes = list(itertools.chain.from_iterable(doc._.trf_data.align[idx].data))\n",
        "\n",
        "  # token_idxes のインデックスは flatten なベクトルに対応しているので reshape する\n",
        "  tensors = np.reshape(tensors, (tensors.shape[0] * tensors.shape[1], -1))\n",
        "\n",
        "  # sum(ttensors[token_idxes])) はベクトルの要素の合計\n",
        "  print(f\"{token.text}\\t\\t{token_idxes[0]}\\t{np.sum(tensors[token_idxes])}\")"
      ],
      "metadata": {
        "colab": {
          "base_uri": "https://localhost:8080/"
        },
        "id": "8mJb2tOVgpAM",
        "outputId": "9a7e63c5-b7e5-43bf-a7e0-93c1b09644f7"
      },
      "execution_count": 8,
      "outputs": [
        {
          "output_type": "stream",
          "name": "stdout",
          "text": [
            "(768,)\n",
            "首\t\t1\t9.142280578613281\n",
            "を\t\t2\t21.943344116210938\n",
            "痛める\t\t3\t-6.15850305557251\n"
          ]
        }
      ]
    },
    {
      "cell_type": "markdown",
      "source": [
        "### 係り受け解析"
      ],
      "metadata": {
        "id": "5KTkUlR9wtdx"
      }
    },
    {
      "cell_type": "code",
      "source": [
        "from spacy import displacy\n",
        "displacy.render(doc, style=\"dep\", options={\"compact\":True}, jupyter=True)"
      ],
      "metadata": {
        "colab": {
          "base_uri": "https://localhost:8080/",
          "height": 307
        },
        "id": "PuWyjjlKxyJb",
        "outputId": "163bde9c-6cf5-432a-e1e1-076319a7fbda"
      },
      "execution_count": 9,
      "outputs": [
        {
          "output_type": "display_data",
          "data": {
            "text/plain": [
              "<IPython.core.display.HTML object>"
            ],
            "text/html": [
              "<span class=\"tex2jax_ignore\"><svg xmlns=\"http://www.w3.org/2000/svg\" xmlns:xlink=\"http://www.w3.org/1999/xlink\" xml:lang=\"ja\" id=\"c06bd0082cc24676b3fa71c68dbe33fa-0\" class=\"displacy\" width=\"500\" height=\"287.0\" direction=\"ltr\" style=\"max-width: none; height: 287.0px; color: #000000; background: #ffffff; font-family: Arial; direction: ltr\">\n",
              "<text class=\"displacy-token\" fill=\"currentColor\" text-anchor=\"middle\" y=\"197.0\">\n",
              "    <tspan class=\"displacy-word\" fill=\"currentColor\" x=\"50\">首</tspan>\n",
              "    <tspan class=\"displacy-tag\" dy=\"2em\" fill=\"currentColor\" x=\"50\">NOUN</tspan>\n",
              "</text>\n",
              "\n",
              "<text class=\"displacy-token\" fill=\"currentColor\" text-anchor=\"middle\" y=\"197.0\">\n",
              "    <tspan class=\"displacy-word\" fill=\"currentColor\" x=\"200\">を</tspan>\n",
              "    <tspan class=\"displacy-tag\" dy=\"2em\" fill=\"currentColor\" x=\"200\">ADP</tspan>\n",
              "</text>\n",
              "\n",
              "<text class=\"displacy-token\" fill=\"currentColor\" text-anchor=\"middle\" y=\"197.0\">\n",
              "    <tspan class=\"displacy-word\" fill=\"currentColor\" x=\"350\">痛める</tspan>\n",
              "    <tspan class=\"displacy-tag\" dy=\"2em\" fill=\"currentColor\" x=\"350\">VERB</tspan>\n",
              "</text>\n",
              "\n",
              "<g class=\"displacy-arrow\">\n",
              "    <path class=\"displacy-arc\" id=\"arrow-c06bd0082cc24676b3fa71c68dbe33fa-0-0\" stroke-width=\"2px\" d=\"M62,152.0 62,102.0 350.0,102.0 350.0,152.0\" fill=\"none\" stroke=\"currentColor\"/>\n",
              "    <text dy=\"1.25em\" style=\"font-size: 0.8em; letter-spacing: 1px\">\n",
              "        <textPath xlink:href=\"#arrow-c06bd0082cc24676b3fa71c68dbe33fa-0-0\" class=\"displacy-label\" startOffset=\"50%\" side=\"left\" fill=\"currentColor\" text-anchor=\"middle\">obj</textPath>\n",
              "    </text>\n",
              "    <path class=\"displacy-arrowhead\" d=\"M62,154.0 L58,146.0 66,146.0\" fill=\"currentColor\"/>\n",
              "</g>\n",
              "\n",
              "<g class=\"displacy-arrow\">\n",
              "    <path class=\"displacy-arc\" id=\"arrow-c06bd0082cc24676b3fa71c68dbe33fa-0-1\" stroke-width=\"2px\" d=\"M62,152.0 62,127.0 197.0,127.0 197.0,152.0\" fill=\"none\" stroke=\"currentColor\"/>\n",
              "    <text dy=\"1.25em\" style=\"font-size: 0.8em; letter-spacing: 1px\">\n",
              "        <textPath xlink:href=\"#arrow-c06bd0082cc24676b3fa71c68dbe33fa-0-1\" class=\"displacy-label\" startOffset=\"50%\" side=\"left\" fill=\"currentColor\" text-anchor=\"middle\">case</textPath>\n",
              "    </text>\n",
              "    <path class=\"displacy-arrowhead\" d=\"M197.0,154.0 L201.0,146.0 193.0,146.0\" fill=\"currentColor\"/>\n",
              "</g>\n",
              "</svg></span>"
            ]
          },
          "metadata": {}
        }
      ]
    },
    {
      "cell_type": "markdown",
      "source": [
        "### 固有表現抽出"
      ],
      "metadata": {
        "id": "ToznTv8oyJPA"
      }
    },
    {
      "cell_type": "code",
      "source": [
        "# 文の解析\n",
        "doc = nlp('日本の首都は東京です')\n",
        "displacy.render(doc, style=\"ent\", jupyter=True)"
      ],
      "metadata": {
        "colab": {
          "base_uri": "https://localhost:8080/",
          "height": 52
        },
        "id": "oJzhuUcox30a",
        "outputId": "0e5eac68-4e8a-4037-f644-bf8d2c0d9688"
      },
      "execution_count": 10,
      "outputs": [
        {
          "output_type": "display_data",
          "data": {
            "text/plain": [
              "<IPython.core.display.HTML object>"
            ],
            "text/html": [
              "<span class=\"tex2jax_ignore\"><div class=\"entities\" style=\"line-height: 2.5; direction: ltr\">\n",
              "<mark class=\"entity\" style=\"background: #ddd; padding: 0.45em 0.6em; margin: 0 0.25em; line-height: 1; border-radius: 0.35em;\">\n",
              "    日本\n",
              "    <span style=\"font-size: 0.8em; font-weight: bold; line-height: 1; border-radius: 0.35em; vertical-align: middle; margin-left: 0.5rem\">Country</span>\n",
              "</mark>\n",
              "の首都は\n",
              "<mark class=\"entity\" style=\"background: #ddd; padding: 0.45em 0.6em; margin: 0 0.25em; line-height: 1; border-radius: 0.35em;\">\n",
              "    東京\n",
              "    <span style=\"font-size: 0.8em; font-weight: bold; line-height: 1; border-radius: 0.35em; vertical-align: middle; margin-left: 0.5rem\">Province</span>\n",
              "</mark>\n",
              "です</div></span>"
            ]
          },
          "metadata": {}
        }
      ]
    }
  ]
}