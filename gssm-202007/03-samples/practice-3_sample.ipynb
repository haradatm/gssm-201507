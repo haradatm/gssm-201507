{
 "cells": [
  {
   "cell_type": "code",
   "execution_count": 1,
   "metadata": {
    "scrolled": true
   },
   "outputs": [],
   "source": [
    "#options(repos='http://cran.md.tsukuba.ac.jp')\n",
    "#options(repos='http://R.research.att.com/')\n",
    "#install.packages('vegan')\n",
    "#install.packages(\"corrplot\")"
   ]
  },
  {
   "cell_type": "markdown",
   "metadata": {},
   "source": [
    "## 0.「文書-抽出語」表を読み込む"
   ]
  },
  {
   "cell_type": "code",
   "execution_count": 2,
   "metadata": {
    "scrolled": true
   },
   "outputs": [],
   "source": [
    "d <- NULL\n",
    "d <- read.table(\"export.csv\", header=T, sep=\",\")\n",
    "\n",
    "d[d$'h5'<=5000, 1] <- \"A_レジャー\"\n",
    "d[d$'h5'>=5001 & d$'h5'<=10000, 1] <- \"B_ビジネス\"\n",
    "d[d$'h5'<=1000, 2] <- \"01_登別\"\n",
    "d[d$'h5'>=1001 & d$'h5'<= 2000, 2] <- \"02_草津\"\n",
    "d[d$'h5'>=2001 & d$'h5'<= 3000, 2] <- \"03_箱根\"\n",
    "d[d$'h5'>=3001 & d$'h5'<= 4000, 2] <- \"04_道後\"\n",
    "d[d$'h5'>=4001 & d$'h5'<= 5000, 2] <- \"05_湯布院\"\n",
    "d[d$'h5'>=5001 & d$'h5'<= 6000, 2] <- \"06_札幌\"\n",
    "d[d$'h5'>=6001 & d$'h5'<= 7000, 2] <- \"07_名古屋\"\n",
    "d[d$'h5'>=7001 & d$'h5'<= 8000, 2] <- \"08_東京\"\n",
    "d[d$'h5'>=8001 & d$'h5'<= 9000, 2] <- \"09_大阪\"\n",
    "d[d$'h5'>=9001 & d$'h5'<=10000, 2] <- \"10_福岡\"\n",
    "\n",
    "d<-d[,c(1:2,11:ncol(d))]\n",
    "names(d)[1] <- \"カテゴリー\"\n",
    "names(d)[2] <- \"エリア\" "
   ]
  },
  {
   "cell_type": "markdown",
   "metadata": {},
   "source": [
    "## 1. 対応分析 (corresp を利用する場合)"
   ]
  },
  {
   "cell_type": "markdown",
   "metadata": {},
   "source": [
    "### (a)「抽出語-文書」表 を確認する"
   ]
  },
  {
   "cell_type": "code",
   "execution_count": 3,
   "metadata": {
    "scrolled": true
   },
   "outputs": [
    {
     "data": {
      "text/html": [
       "<table>\n",
       "<caption>A data.frame: 10 × 10</caption>\n",
       "<thead>\n",
       "\t<tr><th></th><th scope=col>カテゴリー</th><th scope=col>エリア</th><th scope=col>部屋</th><th scope=col>風呂</th><th scope=col>ホテル</th><th scope=col>温泉</th><th scope=col>お部屋</th><th scope=col>スタッフ</th><th scope=col>立地</th><th scope=col>フロント</th></tr>\n",
       "\t<tr><th></th><th scope=col>&lt;chr&gt;</th><th scope=col>&lt;chr&gt;</th><th scope=col>&lt;int&gt;</th><th scope=col>&lt;int&gt;</th><th scope=col>&lt;int&gt;</th><th scope=col>&lt;int&gt;</th><th scope=col>&lt;int&gt;</th><th scope=col>&lt;int&gt;</th><th scope=col>&lt;int&gt;</th><th scope=col>&lt;int&gt;</th></tr>\n",
       "</thead>\n",
       "<tbody>\n",
       "\t<tr><th scope=row>1</th><td>A_レジャー</td><td>01_登別</td><td>0</td><td>0</td><td>0</td><td>0</td><td>0</td><td>0</td><td>0</td><td>1</td></tr>\n",
       "\t<tr><th scope=row>2</th><td>A_レジャー</td><td>01_登別</td><td>0</td><td>0</td><td>0</td><td>0</td><td>0</td><td>1</td><td>0</td><td>0</td></tr>\n",
       "\t<tr><th scope=row>3</th><td>A_レジャー</td><td>01_登別</td><td>1</td><td>1</td><td>0</td><td>0</td><td>0</td><td>0</td><td>0</td><td>0</td></tr>\n",
       "\t<tr><th scope=row>4</th><td>A_レジャー</td><td>01_登別</td><td>0</td><td>0</td><td>1</td><td>1</td><td>0</td><td>0</td><td>0</td><td>0</td></tr>\n",
       "\t<tr><th scope=row>5</th><td>A_レジャー</td><td>01_登別</td><td>0</td><td>0</td><td>0</td><td>0</td><td>0</td><td>0</td><td>0</td><td>0</td></tr>\n",
       "\t<tr><th scope=row>6</th><td>A_レジャー</td><td>01_登別</td><td>0</td><td>0</td><td>0</td><td>0</td><td>0</td><td>0</td><td>0</td><td>0</td></tr>\n",
       "\t<tr><th scope=row>7</th><td>A_レジャー</td><td>01_登別</td><td>0</td><td>0</td><td>0</td><td>0</td><td>1</td><td>1</td><td>0</td><td>0</td></tr>\n",
       "\t<tr><th scope=row>8</th><td>A_レジャー</td><td>01_登別</td><td>0</td><td>0</td><td>0</td><td>0</td><td>0</td><td>0</td><td>0</td><td>0</td></tr>\n",
       "\t<tr><th scope=row>9</th><td>A_レジャー</td><td>01_登別</td><td>0</td><td>0</td><td>0</td><td>0</td><td>0</td><td>0</td><td>0</td><td>0</td></tr>\n",
       "\t<tr><th scope=row>10</th><td>A_レジャー</td><td>01_登別</td><td>0</td><td>0</td><td>0</td><td>0</td><td>0</td><td>0</td><td>0</td><td>0</td></tr>\n",
       "</tbody>\n",
       "</table>\n"
      ],
      "text/latex": [
       "A data.frame: 10 × 10\n",
       "\\begin{tabular}{r|llllllllll}\n",
       "  & カテゴリー & エリア & 部屋 & 風呂 & ホテル & 温泉 & お部屋 & スタッフ & 立地 & フロント\\\\\n",
       "  & <chr> & <chr> & <int> & <int> & <int> & <int> & <int> & <int> & <int> & <int>\\\\\n",
       "\\hline\n",
       "\t1 & A\\_レジャー & 01\\_登別 & 0 & 0 & 0 & 0 & 0 & 0 & 0 & 1\\\\\n",
       "\t2 & A\\_レジャー & 01\\_登別 & 0 & 0 & 0 & 0 & 0 & 1 & 0 & 0\\\\\n",
       "\t3 & A\\_レジャー & 01\\_登別 & 1 & 1 & 0 & 0 & 0 & 0 & 0 & 0\\\\\n",
       "\t4 & A\\_レジャー & 01\\_登別 & 0 & 0 & 1 & 1 & 0 & 0 & 0 & 0\\\\\n",
       "\t5 & A\\_レジャー & 01\\_登別 & 0 & 0 & 0 & 0 & 0 & 0 & 0 & 0\\\\\n",
       "\t6 & A\\_レジャー & 01\\_登別 & 0 & 0 & 0 & 0 & 0 & 0 & 0 & 0\\\\\n",
       "\t7 & A\\_レジャー & 01\\_登別 & 0 & 0 & 0 & 0 & 1 & 1 & 0 & 0\\\\\n",
       "\t8 & A\\_レジャー & 01\\_登別 & 0 & 0 & 0 & 0 & 0 & 0 & 0 & 0\\\\\n",
       "\t9 & A\\_レジャー & 01\\_登別 & 0 & 0 & 0 & 0 & 0 & 0 & 0 & 0\\\\\n",
       "\t10 & A\\_レジャー & 01\\_登別 & 0 & 0 & 0 & 0 & 0 & 0 & 0 & 0\\\\\n",
       "\\end{tabular}\n"
      ],
      "text/markdown": [
       "\n",
       "A data.frame: 10 × 10\n",
       "\n",
       "| <!--/--> | カテゴリー &lt;chr&gt; | エリア &lt;chr&gt; | 部屋 &lt;int&gt; | 風呂 &lt;int&gt; | ホテル &lt;int&gt; | 温泉 &lt;int&gt; | お部屋 &lt;int&gt; | スタッフ &lt;int&gt; | 立地 &lt;int&gt; | フロント &lt;int&gt; |\n",
       "|---|---|---|---|---|---|---|---|---|---|---|\n",
       "| 1 | A_レジャー | 01_登別 | 0 | 0 | 0 | 0 | 0 | 0 | 0 | 1 |\n",
       "| 2 | A_レジャー | 01_登別 | 0 | 0 | 0 | 0 | 0 | 1 | 0 | 0 |\n",
       "| 3 | A_レジャー | 01_登別 | 1 | 1 | 0 | 0 | 0 | 0 | 0 | 0 |\n",
       "| 4 | A_レジャー | 01_登別 | 0 | 0 | 1 | 1 | 0 | 0 | 0 | 0 |\n",
       "| 5 | A_レジャー | 01_登別 | 0 | 0 | 0 | 0 | 0 | 0 | 0 | 0 |\n",
       "| 6 | A_レジャー | 01_登別 | 0 | 0 | 0 | 0 | 0 | 0 | 0 | 0 |\n",
       "| 7 | A_レジャー | 01_登別 | 0 | 0 | 0 | 0 | 1 | 1 | 0 | 0 |\n",
       "| 8 | A_レジャー | 01_登別 | 0 | 0 | 0 | 0 | 0 | 0 | 0 | 0 |\n",
       "| 9 | A_レジャー | 01_登別 | 0 | 0 | 0 | 0 | 0 | 0 | 0 | 0 |\n",
       "| 10 | A_レジャー | 01_登別 | 0 | 0 | 0 | 0 | 0 | 0 | 0 | 0 |\n",
       "\n"
      ],
      "text/plain": [
       "   カテゴリー エリア  部屋 風呂 ホテル 温泉 お部屋 スタッフ 立地 フロント\n",
       "1  A_レジャー 01_登別 0    0    0      0    0      0        0    1       \n",
       "2  A_レジャー 01_登別 0    0    0      0    0      1        0    0       \n",
       "3  A_レジャー 01_登別 1    1    0      0    0      0        0    0       \n",
       "4  A_レジャー 01_登別 0    0    1      1    0      0        0    0       \n",
       "5  A_レジャー 01_登別 0    0    0      0    0      0        0    0       \n",
       "6  A_レジャー 01_登別 0    0    0      0    0      0        0    0       \n",
       "7  A_レジャー 01_登別 0    0    0      0    1      1        0    0       \n",
       "8  A_レジャー 01_登別 0    0    0      0    0      0        0    0       \n",
       "9  A_レジャー 01_登別 0    0    0      0    0      0        0    0       \n",
       "10 A_レジャー 01_登別 0    0    0      0    0      0        0    0       "
      ]
     },
     "metadata": {},
     "output_type": "display_data"
    }
   ],
   "source": [
    "d[1:10,1:10]"
   ]
  },
  {
   "cell_type": "markdown",
   "metadata": {},
   "source": [
    "### (b) 対応分析で2次元プロットする"
   ]
  },
  {
   "cell_type": "code",
   "execution_count": 4,
   "metadata": {
    "scrolled": true
   },
   "outputs": [],
   "source": [
    "d0 <- aggregate(d[,3:ncol(d)], by=list(name=d$\"カテゴリー\"), sum)\n",
    "row.names(d0) <- d0$name; d0$name <- NULL\n",
    "d1 <- aggregate(d[,3:ncol(d)], by=list(name=d$\"エリア\"), sum)\n",
    "row.names(d1) <- d1$name; d1$name <- NULL\n",
    "\n",
    "table.N <- d0;\n",
    "table.N <- rbind(table.N, d1)"
   ]
  },
  {
   "cell_type": "code",
   "execution_count": 5,
   "metadata": {
    "scrolled": true
   },
   "outputs": [
    {
     "data": {
      "text/html": [
       "<table>\n",
       "<caption>A data.frame: 10 × 10</caption>\n",
       "<thead>\n",
       "\t<tr><th></th><th scope=col>部屋</th><th scope=col>風呂</th><th scope=col>ホテル</th><th scope=col>温泉</th><th scope=col>お部屋</th><th scope=col>スタッフ</th><th scope=col>立地</th><th scope=col>フロント</th><th scope=col>最高</th><th scope=col>浴場</th></tr>\n",
       "\t<tr><th></th><th scope=col>&lt;int&gt;</th><th scope=col>&lt;int&gt;</th><th scope=col>&lt;int&gt;</th><th scope=col>&lt;int&gt;</th><th scope=col>&lt;int&gt;</th><th scope=col>&lt;int&gt;</th><th scope=col>&lt;int&gt;</th><th scope=col>&lt;int&gt;</th><th scope=col>&lt;int&gt;</th><th scope=col>&lt;int&gt;</th></tr>\n",
       "</thead>\n",
       "<tbody>\n",
       "\t<tr><th scope=row>A_レジャー</th><td>2571</td><td>2064</td><td>1093</td><td>1610</td><td>1098</td><td>1027</td><td>507</td><td>396</td><td>704</td><td>500</td></tr>\n",
       "\t<tr><th scope=row>B_ビジネス</th><td>2142</td><td> 663</td><td>1633</td><td> 109</td><td> 455</td><td> 427</td><td>827</td><td>671</td><td>255</td><td>365</td></tr>\n",
       "\t<tr><th scope=row>01_登別</th><td> 506</td><td> 371</td><td> 254</td><td> 264</td><td> 162</td><td> 165</td><td> 48</td><td> 84</td><td>142</td><td>110</td></tr>\n",
       "\t<tr><th scope=row>02_草津</th><td> 529</td><td> 501</td><td> 271</td><td> 459</td><td> 216</td><td> 179</td><td>177</td><td> 80</td><td>166</td><td> 88</td></tr>\n",
       "\t<tr><th scope=row>03_箱根</th><td> 585</td><td> 446</td><td> 213</td><td> 278</td><td> 313</td><td> 272</td><td> 64</td><td> 73</td><td>121</td><td>120</td></tr>\n",
       "\t<tr><th scope=row>04_道後</th><td> 441</td><td> 217</td><td> 283</td><td> 312</td><td> 116</td><td> 125</td><td>143</td><td>115</td><td> 83</td><td>102</td></tr>\n",
       "\t<tr><th scope=row>05_湯布院</th><td> 510</td><td> 529</td><td>  72</td><td> 297</td><td> 291</td><td> 286</td><td> 75</td><td> 44</td><td>192</td><td> 80</td></tr>\n",
       "\t<tr><th scope=row>06_札幌</th><td> 431</td><td> 128</td><td> 327</td><td>  30</td><td>  91</td><td> 101</td><td>178</td><td>122</td><td> 49</td><td> 92</td></tr>\n",
       "\t<tr><th scope=row>07_名古屋</th><td> 376</td><td> 132</td><td> 313</td><td>  19</td><td>  82</td><td>  62</td><td>129</td><td>122</td><td> 56</td><td> 89</td></tr>\n",
       "\t<tr><th scope=row>08_東京</th><td> 458</td><td> 117</td><td> 334</td><td>  13</td><td>  90</td><td>  94</td><td>164</td><td>142</td><td> 50</td><td> 80</td></tr>\n",
       "</tbody>\n",
       "</table>\n"
      ],
      "text/latex": [
       "A data.frame: 10 × 10\n",
       "\\begin{tabular}{r|llllllllll}\n",
       "  & 部屋 & 風呂 & ホテル & 温泉 & お部屋 & スタッフ & 立地 & フロント & 最高 & 浴場\\\\\n",
       "  & <int> & <int> & <int> & <int> & <int> & <int> & <int> & <int> & <int> & <int>\\\\\n",
       "\\hline\n",
       "\tA\\_レジャー & 2571 & 2064 & 1093 & 1610 & 1098 & 1027 & 507 & 396 & 704 & 500\\\\\n",
       "\tB\\_ビジネス & 2142 &  663 & 1633 &  109 &  455 &  427 & 827 & 671 & 255 & 365\\\\\n",
       "\t01\\_登別 &  506 &  371 &  254 &  264 &  162 &  165 &  48 &  84 & 142 & 110\\\\\n",
       "\t02\\_草津 &  529 &  501 &  271 &  459 &  216 &  179 & 177 &  80 & 166 &  88\\\\\n",
       "\t03\\_箱根 &  585 &  446 &  213 &  278 &  313 &  272 &  64 &  73 & 121 & 120\\\\\n",
       "\t04\\_道後 &  441 &  217 &  283 &  312 &  116 &  125 & 143 & 115 &  83 & 102\\\\\n",
       "\t05\\_湯布院 &  510 &  529 &   72 &  297 &  291 &  286 &  75 &  44 & 192 &  80\\\\\n",
       "\t06\\_札幌 &  431 &  128 &  327 &   30 &   91 &  101 & 178 & 122 &  49 &  92\\\\\n",
       "\t07\\_名古屋 &  376 &  132 &  313 &   19 &   82 &   62 & 129 & 122 &  56 &  89\\\\\n",
       "\t08\\_東京 &  458 &  117 &  334 &   13 &   90 &   94 & 164 & 142 &  50 &  80\\\\\n",
       "\\end{tabular}\n"
      ],
      "text/markdown": [
       "\n",
       "A data.frame: 10 × 10\n",
       "\n",
       "| <!--/--> | 部屋 &lt;int&gt; | 風呂 &lt;int&gt; | ホテル &lt;int&gt; | 温泉 &lt;int&gt; | お部屋 &lt;int&gt; | スタッフ &lt;int&gt; | 立地 &lt;int&gt; | フロント &lt;int&gt; | 最高 &lt;int&gt; | 浴場 &lt;int&gt; |\n",
       "|---|---|---|---|---|---|---|---|---|---|---|\n",
       "| A_レジャー | 2571 | 2064 | 1093 | 1610 | 1098 | 1027 | 507 | 396 | 704 | 500 |\n",
       "| B_ビジネス | 2142 |  663 | 1633 |  109 |  455 |  427 | 827 | 671 | 255 | 365 |\n",
       "| 01_登別 |  506 |  371 |  254 |  264 |  162 |  165 |  48 |  84 | 142 | 110 |\n",
       "| 02_草津 |  529 |  501 |  271 |  459 |  216 |  179 | 177 |  80 | 166 |  88 |\n",
       "| 03_箱根 |  585 |  446 |  213 |  278 |  313 |  272 |  64 |  73 | 121 | 120 |\n",
       "| 04_道後 |  441 |  217 |  283 |  312 |  116 |  125 | 143 | 115 |  83 | 102 |\n",
       "| 05_湯布院 |  510 |  529 |   72 |  297 |  291 |  286 |  75 |  44 | 192 |  80 |\n",
       "| 06_札幌 |  431 |  128 |  327 |   30 |   91 |  101 | 178 | 122 |  49 |  92 |\n",
       "| 07_名古屋 |  376 |  132 |  313 |   19 |   82 |   62 | 129 | 122 |  56 |  89 |\n",
       "| 08_東京 |  458 |  117 |  334 |   13 |   90 |   94 | 164 | 142 |  50 |  80 |\n",
       "\n"
      ],
      "text/plain": [
       "           部屋 風呂 ホテル 温泉 お部屋 スタッフ 立地 フロント 最高 浴場\n",
       "A_レジャー 2571 2064 1093   1610 1098   1027     507  396      704  500 \n",
       "B_ビジネス 2142  663 1633    109  455    427     827  671      255  365 \n",
       "01_登別     506  371  254    264  162    165      48   84      142  110 \n",
       "02_草津     529  501  271    459  216    179     177   80      166   88 \n",
       "03_箱根     585  446  213    278  313    272      64   73      121  120 \n",
       "04_道後     441  217  283    312  116    125     143  115       83  102 \n",
       "05_湯布院   510  529   72    297  291    286      75   44      192   80 \n",
       "06_札幌     431  128  327     30   91    101     178  122       49   92 \n",
       "07_名古屋   376  132  313     19   82     62     129  122       56   89 \n",
       "08_東京     458  117  334     13   90     94     164  142       50   80 "
      ]
     },
     "metadata": {},
     "output_type": "display_data"
    }
   ],
   "source": [
    "# 観測度数\n",
    "table.N[1:10,1:10]"
   ]
  },
  {
   "cell_type": "code",
   "execution_count": 6,
   "metadata": {
    "scrolled": true
   },
   "outputs": [
    {
     "data": {
      "text/plain": [
       "       Length Class  Mode   \n",
       "cor     11    -none- numeric\n",
       "rscore 132    -none- numeric\n",
       "cscore 462    -none- numeric\n",
       "Freq   504    -none- numeric"
      ]
     },
     "metadata": {},
     "output_type": "display_data"
    }
   ],
   "source": [
    "library(MASS)\n",
    "d_max <- min(nrow(table.N), ncol(table.N)) - 1\n",
    "c <- corresp(table.N, nf=d_max)\n",
    "summary(c)"
   ]
  },
  {
   "cell_type": "code",
   "execution_count": 7,
   "metadata": {},
   "outputs": [
    {
     "data": {
      "image/png": "[encoded data removed]",
      "text/plain": [
       "plot without title"
      ]
     },
     "metadata": {
      "image/png": {
       "height": 420,
       "width": 420
      }
     },
     "output_type": "display_data"
    }
   ],
   "source": [
    "par(family = \"HiraKakuProN-W3\")\n",
    "biplot(c)"
   ]
  },
  {
   "cell_type": "markdown",
   "metadata": {},
   "source": [
    "### (c) 寄与率を確認する"
   ]
  },
  {
   "cell_type": "code",
   "execution_count": 8,
   "metadata": {},
   "outputs": [
    {
     "data": {
      "text/html": [
       "<style>\n",
       ".list-inline {list-style: none; margin:0; padding: 0}\n",
       ".list-inline>li {display: inline-block}\n",
       ".list-inline>li:not(:last-child)::after {content: \"\\00b7\"; padding: 0 .5ex}\n",
       "</style>\n",
       "<ol class=list-inline><li>0.1395</li><li>0.0103</li><li>0.0043</li><li>0.0018</li><li>0.0012</li><li>0.001</li><li>8e-04</li><li>4e-04</li><li>3e-04</li><li>0</li><li>0</li></ol>\n"
      ],
      "text/latex": [
       "\\begin{enumerate*}\n",
       "\\item 0.1395\n",
       "\\item 0.0103\n",
       "\\item 0.0043\n",
       "\\item 0.0018\n",
       "\\item 0.0012\n",
       "\\item 0.001\n",
       "\\item 8e-04\n",
       "\\item 4e-04\n",
       "\\item 3e-04\n",
       "\\item 0\n",
       "\\item 0\n",
       "\\end{enumerate*}\n"
      ],
      "text/markdown": [
       "1. 0.1395\n",
       "2. 0.0103\n",
       "3. 0.0043\n",
       "4. 0.0018\n",
       "5. 0.0012\n",
       "6. 0.001\n",
       "7. 8e-04\n",
       "8. 4e-04\n",
       "9. 3e-04\n",
       "10. 0\n",
       "11. 0\n",
       "\n",
       "\n"
      ],
      "text/plain": [
       " [1] 0.1395 0.0103 0.0043 0.0018 0.0012 0.0010 0.0008 0.0004 0.0003 0.0000\n",
       "[11] 0.0000"
      ]
     },
     "metadata": {},
     "output_type": "display_data"
    },
    {
     "data": {
      "text/html": [
       "<style>\n",
       ".list-inline {list-style: none; margin:0; padding: 0}\n",
       ".list-inline>li {display: inline-block}\n",
       ".list-inline>li:not(:last-child)::after {content: \"\\00b7\"; padding: 0 .5ex}\n",
       "</style>\n",
       "<ol class=list-inline><li>87.37</li><li>6.48</li><li>2.69</li><li>1.12</li><li>0.75</li><li>0.61</li><li>0.51</li><li>0.28</li><li>0.2</li><li>0</li><li>0</li></ol>\n"
      ],
      "text/latex": [
       "\\begin{enumerate*}\n",
       "\\item 87.37\n",
       "\\item 6.48\n",
       "\\item 2.69\n",
       "\\item 1.12\n",
       "\\item 0.75\n",
       "\\item 0.61\n",
       "\\item 0.51\n",
       "\\item 0.28\n",
       "\\item 0.2\n",
       "\\item 0\n",
       "\\item 0\n",
       "\\end{enumerate*}\n"
      ],
      "text/markdown": [
       "1. 87.37\n",
       "2. 6.48\n",
       "3. 2.69\n",
       "4. 1.12\n",
       "5. 0.75\n",
       "6. 0.61\n",
       "7. 0.51\n",
       "8. 0.28\n",
       "9. 0.2\n",
       "10. 0\n",
       "11. 0\n",
       "\n",
       "\n"
      ],
      "text/plain": [
       " [1] 87.37  6.48  2.69  1.12  0.75  0.61  0.51  0.28  0.20  0.00  0.00"
      ]
     },
     "metadata": {},
     "output_type": "display_data"
    }
   ],
   "source": [
    "# 固有値 ＝ 正準相関の2乗\n",
    "k <- c$cor^2\n",
    "round(k,4) \n",
    "\n",
    "# 寄与率 = 固有値 / 固有値の和\n",
    "round(100*k / sum(k), 2)"
   ]
  },
  {
   "cell_type": "markdown",
   "metadata": {},
   "source": [
    "### (参考) KHCoder の出力例"
   ]
  },
  {
   "cell_type": "code",
   "execution_count": 9,
   "metadata": {},
   "outputs": [],
   "source": [
    "# library(\"imager\")\n",
    "# img<-load.image(\"khcoder.png\")\n",
    "# plot(as.raster(img, 2048, 2048))"
   ]
  },
  {
   "cell_type": "code",
   "execution_count": 10,
   "metadata": {},
   "outputs": [
    {
     "ename": "ERROR",
     "evalue": "Error in readPNG(\"khcoder-corresp.png\"): unable to open khcoder-corresp.png\n",
     "output_type": "error",
     "traceback": [
      "Error in readPNG(\"khcoder-corresp.png\"): unable to open khcoder-corresp.png\nTraceback:\n",
      "1. readPNG(\"khcoder-corresp.png\")"
     ]
    }
   ],
   "source": [
    "library(\"png\")\n",
    "img <- readPNG(\"khcoder-corresp.png\")\n",
    "par(plt=c(0, 1, 0, 1), bty=\"n\")\n",
    "plot(0, 0, xlim=c(0, 10), ylim=c(10, 0), type=\"n\", asp=1, xaxt=\"n\", xlab=\"\", yaxt=\"n\", ylab=\"\")\n",
    "rasterImage(img, 0, 10, 10, 0)"
   ]
  },
  {
   "cell_type": "markdown",
   "metadata": {},
   "source": [
    "## 3. 対応分析 (自力で計算する場合)"
   ]
  },
  {
   "cell_type": "code",
   "execution_count": null,
   "metadata": {},
   "outputs": [],
   "source": [
    "# 観測度数\n",
    "table.N[1:10,1:10]"
   ]
  },
  {
   "cell_type": "code",
   "execution_count": null,
   "metadata": {},
   "outputs": [],
   "source": [
    "# 観測度数の行合計\n",
    "row.sum <- apply(table.N, 1, sum)\n",
    "\n",
    "# 観測度数の列合計\n",
    "col.sum <- apply(table.N, 2, sum)\n",
    "\n",
    "# 観測度数の総計\n",
    "n <- sum(table.N)"
   ]
  },
  {
   "cell_type": "code",
   "execution_count": null,
   "metadata": {},
   "outputs": [],
   "source": [
    "# 期待度数\n",
    "expected <- outer(row.sum, col.sum) / sum(table.N)\n",
    "round(expected, 2)[1:10, 1:10]"
   ]
  },
  {
   "cell_type": "code",
   "execution_count": null,
   "metadata": {
    "scrolled": false
   },
   "outputs": [],
   "source": [
    "# # Chi-squared test\n",
    "# chisq <- chisq.test(table.N)\n",
    "\n",
    "# #  Residuals\n",
    "# residuals <- chisq$residuals\n",
    "# residuals[1:10,1:10]"
   ]
  },
  {
   "cell_type": "code",
   "execution_count": null,
   "metadata": {
    "scrolled": true
   },
   "outputs": [],
   "source": [
    "# χ二乗距離\n",
    "chisq <- (table.N - expected)^2/expected\n",
    "round(chisq, 2)[1:10,1:10]"
   ]
  },
  {
   "cell_type": "code",
   "execution_count": null,
   "metadata": {
    "scrolled": true
   },
   "outputs": [],
   "source": [
    "#  残差\n",
    "residuals <- (table.N - expected)/sqrt(expected)\n",
    "round(residuals, 2)[1:10,1:10]"
   ]
  },
  {
   "cell_type": "code",
   "execution_count": null,
   "metadata": {},
   "outputs": [],
   "source": [
    "# 標準化残差\n",
    "residuals <- residuals / sqrt(n)\n",
    "\n",
    "# 次元数\n",
    "nb.axes <- min(nrow(residuals)-1, ncol(residuals)-1)\n",
    "\n",
    "# 特異値分解\n",
    "res.svd <- svd(residuals, nu = nb.axes, nv = nb.axes)\n",
    "summary(res.svd)"
   ]
  },
  {
   "cell_type": "code",
   "execution_count": null,
   "metadata": {},
   "outputs": [],
   "source": [
    "sv <- res.svd$d[1:nb.axes] # singular value\n",
    "u <-res.svd$u\n",
    "v <- res.svd$v"
   ]
  },
  {
   "cell_type": "code",
   "execution_count": null,
   "metadata": {
    "scrolled": true
   },
   "outputs": [],
   "source": [
    "# row mass\n",
    "row.mass <- row.sum/n\n",
    "\n",
    "# row coord = sv * u /sqrt(row.mass)\n",
    "cc <- t(apply(u, 1, '*', sv)) # each row X sv\n",
    "row.coord <- apply(cc, 2, '/', sqrt(row.mass))\n",
    "rownames(row.coord) <- rownames(table.N)\n",
    "colnames(row.coord) <- paste0(\"Dim.\", 1:nb.axes)\n",
    "head(round(row.coord, 3))"
   ]
  },
  {
   "cell_type": "code",
   "execution_count": null,
   "metadata": {},
   "outputs": [],
   "source": [
    "# col mass\n",
    "col.mass <- col.sum/n\n",
    "\n",
    "# coordinates sv * v /sqrt(col.mass)\n",
    "cc <- t(apply(v, 1, '*', sv))\n",
    "col.coord <- apply(cc, 2, '/', sqrt(col.mass))\n",
    "rownames(col.coord) <- colnames(table.N)\n",
    "colnames(col.coord) <- paste0(\"Dim\", 1:nb.axes)\n",
    "head(round(col.coord, 3))"
   ]
  },
  {
   "cell_type": "code",
   "execution_count": null,
   "metadata": {
    "scrolled": false
   },
   "outputs": [],
   "source": [
    "par(family = \"HiraKakuProN-W3\")\n",
    "\n",
    "xlim <- range(c(row.coord[,1], col.coord[,1]))*1.1\n",
    "ylim <- range(c(row.coord[,2], col.coord[,2]))*1.1\n",
    "\n",
    "# 行方向のプロット (外部変数)\n",
    "plot(row.coord, pch=19, col = \"red\", xlim = xlim, ylim = ylim)\n",
    "text(row.coord, labels =rownames(row.coord), pos = 3, col =\"red\")\n",
    "\n",
    "# 列方向のプロット (単語)\n",
    "points(col.coord, pch=17, col = \"blue\")\n",
    "text(col.coord, labels =rownames(col.coord), pos = 3, col =\"blue\")\n",
    "abline(v=0, h=0, lty = 2)"
   ]
  },
  {
   "cell_type": "code",
   "execution_count": null,
   "metadata": {
    "scrolled": true
   },
   "outputs": [],
   "source": [
    "# 固有値\n",
    "k <- res.svd$d^2\n",
    "round(k,4) \n",
    "\n",
    "# 寄与率\n",
    "round(100*k / sum(k), 2)"
   ]
  },
  {
   "cell_type": "markdown",
   "metadata": {},
   "source": [
    "### (参考) KHCoder の出力例"
   ]
  },
  {
   "cell_type": "code",
   "execution_count": null,
   "metadata": {
    "scrolled": false
   },
   "outputs": [],
   "source": [
    "img <- readPNG(\"khcoder-corresp.png\")\n",
    "par(plt=c(0, 1, 0, 1), bty=\"n\")\n",
    "plot(0, 0, xlim=c(0, 10), ylim=c(0, 10), type=\"n\", asp=1, xaxt=\"n\", xlab=\"\", yaxt=\"n\", ylab=\"\")\n",
    "rasterImage(img, 0, 10, 10, 0)"
   ]
  }
 ],
 "metadata": {
  "kernelspec": {
   "display_name": "R",
   "language": "R",
   "name": "ir"
  },
  "language_info": {
   "codemirror_mode": "r",
   "file_extension": ".r",
   "mimetype": "text/x-r-source",
   "name": "R",
   "pygments_lexer": "r",
   "version": "3.6.3"
  }
 },
 "nbformat": 4,
 "nbformat_minor": 2
}
